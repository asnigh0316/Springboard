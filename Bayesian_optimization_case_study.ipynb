{
 "cells": [
  {
   "cell_type": "markdown",
   "metadata": {
    "colab_type": "text",
    "id": "WNK7vbHo-KYU"
   },
   "source": [
    "## Bayesian methods of hyperparameter optimization"
   ]
  },
  {
   "cell_type": "markdown",
   "metadata": {
    "colab_type": "text",
    "id": "BlFdvPwF-KYW"
   },
   "source": [
    "In addition to the random search and the grid search methods for selecting optimal hyperparameters, we can use Bayesian methods of probabilities to select the optimal hyperparameters for an algorithm.\n",
    "\n",
    "In this case study, we will be using the BayesianOptimization library to perform hyperparmater tuning. This library has very good documentation which you can find here: https://github.com/fmfn/BayesianOptimization\n",
    "\n",
    "You will need to install the Bayesian optimization module. Running a cell with an exclamation point in the beginning of the command will run it as a shell command — please do this to install this module from our notebook in the cell below."
   ]
  },
  {
   "cell_type": "code",
   "execution_count": 1,
   "metadata": {
    "colab": {},
    "colab_type": "code",
    "id": "Pssx080d-Ulf"
   },
   "outputs": [
    {
     "name": "stdout",
     "output_type": "stream",
     "text": [
      "Collecting bayesian-optimization\n",
      "  Downloading bayesian-optimization-1.2.0.tar.gz (14 kB)\n",
      "Requirement already satisfied: numpy>=1.9.0 in /Users/alecnigh/opt/anaconda3/lib/python3.8/site-packages (from bayesian-optimization) (1.20.2)\n",
      "Requirement already satisfied: scipy>=0.14.0 in /Users/alecnigh/opt/anaconda3/lib/python3.8/site-packages (from bayesian-optimization) (1.6.2)\n",
      "Requirement already satisfied: scikit-learn>=0.18.0 in /Users/alecnigh/opt/anaconda3/lib/python3.8/site-packages (from bayesian-optimization) (0.24.2)\n",
      "Requirement already satisfied: joblib>=0.11 in /Users/alecnigh/opt/anaconda3/lib/python3.8/site-packages (from scikit-learn>=0.18.0->bayesian-optimization) (1.0.1)\n",
      "Requirement already satisfied: threadpoolctl>=2.0.0 in /Users/alecnigh/opt/anaconda3/lib/python3.8/site-packages (from scikit-learn>=0.18.0->bayesian-optimization) (2.1.0)\n",
      "Building wheels for collected packages: bayesian-optimization\n",
      "  Building wheel for bayesian-optimization (setup.py) ... \u001b[?25ldone\n",
      "\u001b[?25h  Created wheel for bayesian-optimization: filename=bayesian_optimization-1.2.0-py3-none-any.whl size=11685 sha256=0aefc50de64ad44cf15456ac1d5675d996328566329407c1093f4822130dfdb7\n",
      "  Stored in directory: /Users/alecnigh/Library/Caches/pip/wheels/37/fa/19/f93e793d3944567a60b3ab93b446cf7370cc82c60c1d1c613f\n",
      "Successfully built bayesian-optimization\n",
      "Installing collected packages: bayesian-optimization\n",
      "Successfully installed bayesian-optimization-1.2.0\n"
     ]
    }
   ],
   "source": [
    "! pip install bayesian-optimization"
   ]
  },
  {
   "cell_type": "code",
   "execution_count": 40,
   "metadata": {},
   "outputs": [
    {
     "name": "stdout",
     "output_type": "stream",
     "text": [
      "Collecting package metadata (current_repodata.json): done\n",
      "Solving environment: done\n",
      "\n",
      "## Package Plan ##\n",
      "\n",
      "  environment location: /Users/alecnigh/opt/anaconda3\n",
      "\n",
      "  added / updated specs:\n",
      "    - lightgbm\n",
      "\n",
      "\n",
      "The following packages will be downloaded:\n",
      "\n",
      "    package                    |            build\n",
      "    ---------------------------|-----------------\n",
      "    lightgbm-3.1.1             |   py38h23ab428_0         867 KB\n",
      "    ------------------------------------------------------------\n",
      "                                           Total:         867 KB\n",
      "\n",
      "The following NEW packages will be INSTALLED:\n",
      "\n",
      "  lightgbm           pkgs/main/osx-64::lightgbm-3.1.1-py38h23ab428_0\n",
      "\n",
      "\n",
      "Proceed ([y]/n)? ^C\n",
      "\n",
      "CondaSystemExit: \n",
      "Operation aborted.  Exiting.\n",
      "\n"
     ]
    }
   ],
   "source": [
    "!conda install lightgbm\n"
   ]
  },
  {
   "cell_type": "code",
   "execution_count": 44,
   "metadata": {},
   "outputs": [
    {
     "name": "stdout",
     "output_type": "stream",
     "text": [
      "Requirement already satisfied: lightgbm in /Users/alecnigh/opt/anaconda3/lib/python3.8/site-packages (3.2.1)\n",
      "Requirement already satisfied: wheel in /Users/alecnigh/opt/anaconda3/lib/python3.8/site-packages (from lightgbm) (0.36.2)\n",
      "Requirement already satisfied: numpy in /Users/alecnigh/opt/anaconda3/lib/python3.8/site-packages (from lightgbm) (1.20.2)\n",
      "Requirement already satisfied: scipy in /Users/alecnigh/opt/anaconda3/lib/python3.8/site-packages (from lightgbm) (1.6.2)\n",
      "Requirement already satisfied: scikit-learn!=0.22.0 in /Users/alecnigh/opt/anaconda3/lib/python3.8/site-packages (from lightgbm) (0.24.2)\n",
      "Requirement already satisfied: threadpoolctl>=2.0.0 in /Users/alecnigh/opt/anaconda3/lib/python3.8/site-packages (from scikit-learn!=0.22.0->lightgbm) (2.1.0)\n",
      "Requirement already satisfied: joblib>=0.11 in /Users/alecnigh/opt/anaconda3/lib/python3.8/site-packages (from scikit-learn!=0.22.0->lightgbm) (1.0.1)\n"
     ]
    }
   ],
   "source": [
    "!pip install lightgbm"
   ]
  },
  {
   "cell_type": "code",
   "execution_count": 8,
   "metadata": {},
   "outputs": [
    {
     "name": "stdout",
     "output_type": "stream",
     "text": [
      "\u001b[32m==>\u001b[0m \u001b[1mUpgrading 9 outdated packages:\u001b[0m\n",
      "pipenv 2020.11.15 -> 2021.5.29\n",
      "gdbm 1.18.1_1 -> 1.20\n",
      "sqlite 3.34.0 -> 3.36.0\n",
      "tcl-tk 8.6.11 -> 8.6.11_1\n",
      "isl 0.23 -> 0.24\n",
      "pcre2 10.36 -> 10.37\n",
      "openssl@1.1 1.1.1i -> 1.1.1k\n",
      "git 2.29.2 -> 2.32.0\n",
      "python@3.9 3.9.1_6 -> 3.9.5\n",
      "\u001b[32m==>\u001b[0m \u001b[1mUpgrading \u001b[32mopenssl@1.1\u001b[39m\n",
      "  1.1.1i -> 1.1.1k \n",
      "\u001b[0m\n",
      "\u001b[34m==>\u001b[0m \u001b[1mDownloading https://ghcr.io/v2/homebrew/core/openssl/1.1/manifests/1.1.1k\u001b[0m\n",
      "Already downloaded: /Users/alecnigh/Library/Caches/Homebrew/downloads/2efe91096994c33489c066631735a35cc3863cae64fc2ad5b305675fe9d24fed--openssl@1.1-1.1.1k.bottle_manifest.json\n",
      "\u001b[34m==>\u001b[0m \u001b[1mDownloading https://ghcr.io/v2/homebrew/core/openssl/1.1/blobs/sha256:17d94c\u001b[0m\n",
      "Already downloaded: /Users/alecnigh/Library/Caches/Homebrew/downloads/bb270b9867427c49afbdb98f1dcb4accd99bf2517be61686f9c314007ff77849--openssl@1.1--1.1.1k.big_sur.bottle.tar.gz\n",
      "\u001b[34m==>\u001b[0m \u001b[1mPouring openssl@1.1--1.1.1k.big_sur.bottle.tar.gz\u001b[0m\n",
      "\u001b[34m==>\u001b[0m \u001b[1mRegenerating CA certificate bundle from keychain, this may take a while...\u001b[0m\n",
      "🍺  /usr/local/Cellar/openssl@1.1/1.1.1k: 8,071 files, 18.5MB\n",
      "\u001b[34m==>\u001b[0m \u001b[1m`brew cleanup` has not been run in 30 days, running now...\u001b[0m\n",
      "Removing: /Users/alecnigh/Library/Caches/Homebrew/gdbm--1.19... (208.9KB)\n",
      "Removing: /Users/alecnigh/Library/Caches/Homebrew/gettext--0.21.big_sur.bottle.tar.gz... (8.5MB)\n",
      "Removing: /Users/alecnigh/Library/Caches/Homebrew/gmp--6.2.1.big_sur.bottle.tar.gz... (1MB)\n",
      "Removing: /Users/alecnigh/Library/Caches/Homebrew/libmpc--1.2.1.big_sur.bottle.tar.gz... (126.7KB)\n",
      "Removing: /Users/alecnigh/Library/Caches/Homebrew/mpfr--4.1.0.big_sur.bottle.tar.gz... (1.2MB)\n",
      "Removing: /usr/local/Cellar/openssl@1.1/1.1.1h... (8,067 files, 18.5MB)\n",
      "Removing: /usr/local/Cellar/openssl@1.1/1.1.1i... (8,067 files, 18.5MB)\n",
      "Removing: /Users/alecnigh/Library/Caches/Homebrew/pcre2--10.36.big_sur.bottle.tar.gz... (2.0MB)\n",
      "Removing: /Users/alecnigh/Library/Caches/Homebrew/pkg-config--0.29.2_3.big_sur.bottle.tar.gz... (239.6KB)\n",
      "Removing: /Users/alecnigh/Library/Caches/Homebrew/python@3.9--wheel--0.36.2.tar.gz... (63.9KB)\n",
      "Removing: /Users/alecnigh/Library/Caches/Homebrew/readline--8.1.big_sur.bottle.tar.gz... (536KB)\n",
      "Removing: /Users/alecnigh/Library/Caches/Homebrew/sqlite--3.35.5... (2.0MB)\n",
      "Removing: /Users/alecnigh/Library/Caches/Homebrew/tcl-tk--8.6.11.big_sur.bottle.tar.gz... (8.5MB)\n",
      "Removing: /Users/alecnigh/Library/Caches/Homebrew/pcre--8.44... (1.8MB)\n",
      "Pruned 0 symbolic links and 7 directories from /usr/local\n",
      "\u001b[32m==>\u001b[0m \u001b[1mUpgrading \u001b[32msqlite\u001b[39m\n",
      "  3.34.0 -> 3.36.0 \n",
      "\u001b[0m\n",
      "\u001b[34m==>\u001b[0m \u001b[1mDownloading https://ghcr.io/v2/homebrew/core/sqlite/manifests/3.36.0\u001b[0m\n",
      "######################################################################## 100.0%\n",
      "\u001b[34m==>\u001b[0m \u001b[1mDownloading https://ghcr.io/v2/homebrew/core/sqlite/blobs/sha256:2c9c5f05c16\u001b[0m\n",
      "\u001b[34m==>\u001b[0m \u001b[1mDownloading from https://pkg-containers.githubusercontent.com/ghcr1/blobs/sh\u001b[0m\n",
      "######################################################################## 100.0%\n",
      "\u001b[34m==>\u001b[0m \u001b[1mPouring sqlite--3.36.0.big_sur.bottle.tar.gz\u001b[0m\n",
      "🍺  /usr/local/Cellar/sqlite/3.36.0: 11 files, 4.2MB\n",
      "Removing: /usr/local/Cellar/sqlite/3.34.0... (11 files, 4.1MB)\n",
      "\u001b[32m==>\u001b[0m \u001b[1mUpgrading \u001b[32mtcl-tk\u001b[39m\n",
      "  8.6.11 -> 8.6.11_1 \n",
      "\u001b[0m\n",
      "\u001b[34m==>\u001b[0m \u001b[1mDownloading https://ghcr.io/v2/homebrew/core/tcl-tk/manifests/8.6.11_1\u001b[0m\n",
      "######################################################################## 100.0%\n",
      "\u001b[34m==>\u001b[0m \u001b[1mDownloading https://ghcr.io/v2/homebrew/core/tcl-tk/blobs/sha256:d9ffd39a32e\u001b[0m\n",
      "\u001b[34m==>\u001b[0m \u001b[1mDownloading from https://pkg-containers.githubusercontent.com/ghcr1/blobs/sh\u001b[0m\n",
      "######################################################################## 100.0%\n",
      "\u001b[34m==>\u001b[0m \u001b[1mPouring tcl-tk--8.6.11_1.big_sur.bottle.tar.gz\u001b[0m\n",
      "🍺  /usr/local/Cellar/tcl-tk/8.6.11_1: 3,041 files, 51.6MB\n",
      "Removing: /usr/local/Cellar/tcl-tk/8.6.11... (3,041 files, 51.6MB)\n",
      "\u001b[32m==>\u001b[0m \u001b[1mUpgrading \u001b[32mpcre2\u001b[39m\n",
      "  10.36 -> 10.37 \n",
      "\u001b[0m\n",
      "\u001b[34m==>\u001b[0m \u001b[1mDownloading https://ghcr.io/v2/homebrew/core/pcre2/manifests/10.37\u001b[0m\n",
      "######################################################################## 100.0%\n",
      "\u001b[34m==>\u001b[0m \u001b[1mDownloading https://ghcr.io/v2/homebrew/core/pcre2/blobs/sha256:981738c8279d\u001b[0m\n",
      "\u001b[34m==>\u001b[0m \u001b[1mDownloading from https://pkg-containers.githubusercontent.com/ghcr1/blobs/sh\u001b[0m\n",
      "######################################################################## 100.0%\n",
      "\u001b[34m==>\u001b[0m \u001b[1mPouring pcre2--10.37.big_sur.bottle.tar.gz\u001b[0m\n",
      "🍺  /usr/local/Cellar/pcre2/10.37: 230 files, 6.2MB\n",
      "Removing: /usr/local/Cellar/pcre2/10.36... (230 files, 6.2MB)\n",
      "\u001b[32m==>\u001b[0m \u001b[1mUpgrading \u001b[32mgit\u001b[39m\n",
      "  2.29.2 -> 2.32.0 \n",
      "\u001b[0m\n",
      "\u001b[34m==>\u001b[0m \u001b[1mDownloading https://ghcr.io/v2/homebrew/core/git/manifests/2.32.0\u001b[0m\n",
      "######################################################################## 100.0%\n",
      "\u001b[34m==>\u001b[0m \u001b[1mDownloading https://ghcr.io/v2/homebrew/core/git/blobs/sha256:ae89ad7ec0ffdb\u001b[0m\n",
      "\u001b[34m==>\u001b[0m \u001b[1mDownloading from https://pkg-containers.githubusercontent.com/ghcr1/blobs/sh\u001b[0m\n",
      "######################################################################## 100.0%\n",
      "\u001b[34m==>\u001b[0m \u001b[1mPouring git--2.32.0.big_sur.bottle.tar.gz\u001b[0m\n",
      "\u001b[34m==>\u001b[0m \u001b[1mCaveats\u001b[0m\n",
      "The Tcl/Tk GUIs (e.g. gitk, git-gui) are now in the `git-gui` formula.\n",
      "\n",
      "zsh completions and functions have been installed to:\n",
      "  /usr/local/share/zsh/site-functions\n",
      "\n",
      "Emacs Lisp files have been installed to:\n",
      "  /usr/local/share/emacs/site-lisp/git\n",
      "\u001b[34m==>\u001b[0m \u001b[1mSummary\u001b[0m\n",
      "🍺  /usr/local/Cellar/git/2.32.0: 1,517 files, 42.0MB\n",
      "Removing: /usr/local/Cellar/git/2.29.2... (1,480 files, 39.7MB)\n",
      "\u001b[32m==>\u001b[0m \u001b[1mUpgrading \u001b[32mpipenv\u001b[39m\n",
      "  2020.11.15 -> 2021.5.29 \n",
      "\u001b[0m\n",
      "\u001b[34m==>\u001b[0m \u001b[1mDownloading https://ghcr.io/v2/homebrew/core/gdbm/manifests/1.20\u001b[0m\n",
      "######################################################################## 100.0%\n",
      "\u001b[34m==>\u001b[0m \u001b[1mDownloading https://ghcr.io/v2/homebrew/core/gdbm/blobs/sha256:ea88ce09e9344\u001b[0m\n",
      "\u001b[34m==>\u001b[0m \u001b[1mDownloading from https://pkg-containers.githubusercontent.com/ghcr1/blobs/sh\u001b[0m\n",
      "######################################################################## 100.0%\n",
      "\u001b[34m==>\u001b[0m \u001b[1mDownloading https://ghcr.io/v2/homebrew/core/mpdecimal/manifests/2.5.1\u001b[0m\n",
      "Already downloaded: /Users/alecnigh/Library/Caches/Homebrew/downloads/f367c2ee08c56b88be0662703a8e4275f8657608a268c8c44e845154b0cea543--mpdecimal-2.5.1.bottle_manifest.json\n",
      "\u001b[34m==>\u001b[0m \u001b[1mDownloading https://ghcr.io/v2/homebrew/core/mpdecimal/blobs/sha256:255b6226\u001b[0m\n",
      "Already downloaded: /Users/alecnigh/Library/Caches/Homebrew/downloads/7a713d7515bcb7f82a8513288e409415e6a73138d89788bfa127be0540e1886b--mpdecimal--2.5.1.big_sur.bottle.tar.gz\n",
      "\u001b[31mError:\u001b[0m python@3.9: the bottle needs the Apple Command Line Tools to be installed.\n",
      "  You can install them, if desired, with:\n",
      "    xcode-select --install\n",
      "\n",
      "You can try to install from source with:\n",
      "  brew install --build-from-source python@3.9\n",
      "Please note building from source is unsupported. You will encounter build\n",
      "failures with some formulae. If you experience any issues please create pull\n",
      "requests instead of asking for help on Homebrew's GitHub, Twitter or any other\n",
      "official channels.\n",
      "\u001b[32m==>\u001b[0m \u001b[1mUpgrading \u001b[32mpython@3.9\u001b[39m\n",
      "  3.9.1_6 -> 3.9.5 \n",
      "\u001b[0m\n",
      "\u001b[31mError:\u001b[0m python@3.9: the bottle needs the Apple Command Line Tools to be installed.\n",
      "  You can install them, if desired, with:\n",
      "    xcode-select --install\n",
      "\n",
      "You can try to install from source with:\n",
      "  brew install --build-from-source python@3.9\n",
      "Please note building from source is unsupported. You will encounter build\n",
      "failures with some formulae. If you experience any issues please create pull\n",
      "requests instead of asking for help on Homebrew's GitHub, Twitter or any other\n",
      "official channels.\n",
      "\u001b[32m==>\u001b[0m \u001b[1mUpgrading \u001b[32mgdbm\u001b[39m\n",
      "  1.18.1_1 -> 1.20 \n",
      "\u001b[0m\n",
      "\u001b[34m==>\u001b[0m \u001b[1mDownloading https://ghcr.io/v2/homebrew/core/gdbm/manifests/1.20\u001b[0m\n",
      "Already downloaded: /Users/alecnigh/Library/Caches/Homebrew/downloads/c27d8af232565f7f16e912a20505b0d5ff83f6782835b9492840213cbf5fa5d2--gdbm-1.20.bottle_manifest.json\n",
      "\u001b[34m==>\u001b[0m \u001b[1mDownloading https://ghcr.io/v2/homebrew/core/gdbm/blobs/sha256:ea88ce09e9344\u001b[0m\n",
      "Already downloaded: /Users/alecnigh/Library/Caches/Homebrew/downloads/039ddb2682e5b93b3cd0ad30e130b5eab5bdb193e9e8d0239c9556958ccd992b--gdbm--1.20.big_sur.bottle.tar.gz\n",
      "\u001b[34m==>\u001b[0m \u001b[1mPouring gdbm--1.20.big_sur.bottle.tar.gz\u001b[0m\n",
      "🍺  /usr/local/Cellar/gdbm/1.20: 24 files, 825.0KB\n",
      "Removing: /usr/local/Cellar/gdbm/1.18.1_1... (25 files, 641KB)\n",
      "\u001b[32m==>\u001b[0m \u001b[1mUpgrading \u001b[32misl\u001b[39m\n",
      "  0.23 -> 0.24 \n",
      "\u001b[0m\n",
      "\u001b[34m==>\u001b[0m \u001b[1mDownloading https://ghcr.io/v2/homebrew/core/isl/manifests/0.24\u001b[0m\n",
      "######################################################################## 100.0%\n",
      "\u001b[34m==>\u001b[0m \u001b[1mDownloading https://ghcr.io/v2/homebrew/core/isl/blobs/sha256:d8c7026042e122\u001b[0m\n",
      "\u001b[34m==>\u001b[0m \u001b[1mDownloading from https://pkg-containers.githubusercontent.com/ghcr1/blobs/sh\u001b[0m\n",
      "######################################################################## 100.0%\n",
      "\u001b[34m==>\u001b[0m \u001b[1mPouring isl--0.24.big_sur.bottle.tar.gz\u001b[0m\n",
      "🍺  /usr/local/Cellar/isl/0.24: 73 files, 7.3MB\n",
      "Removing: /usr/local/Cellar/isl/0.23... (72 files, 5MB)\n",
      "\u001b[34m==>\u001b[0m \u001b[1mUpgrading 2 dependents:\u001b[0m\n",
      "python@3.9 3.9.1_6 -> 3.9.5, pipenv 2020.11.15 -> 2021.5.29\n",
      "\u001b[32m==>\u001b[0m \u001b[1mUpgrading \u001b[32mpython@3.9\u001b[39m\n",
      "  3.9.1_6 -> 3.9.5 \n",
      "\u001b[0m\n",
      "\u001b[31mError:\u001b[0m python@3.9: the bottle needs the Apple Command Line Tools to be installed.\n",
      "  You can install them, if desired, with:\n",
      "    xcode-select --install\n",
      "\n",
      "You can try to install from source with:\n",
      "  brew install --build-from-source python@3.9\n",
      "Please note building from source is unsupported. You will encounter build\n",
      "failures with some formulae. If you experience any issues please create pull\n",
      "requests instead of asking for help on Homebrew's GitHub, Twitter or any other\n",
      "official channels.\n",
      "\u001b[32m==>\u001b[0m \u001b[1mUpgrading \u001b[32mpipenv\u001b[39m\n",
      "  2020.11.15 -> 2021.5.29 \n",
      "\u001b[0m\n",
      "\u001b[34m==>\u001b[0m \u001b[1mDownloading https://ghcr.io/v2/homebrew/core/mpdecimal/manifests/2.5.1\u001b[0m\n",
      "Already downloaded: /Users/alecnigh/Library/Caches/Homebrew/downloads/f367c2ee08c56b88be0662703a8e4275f8657608a268c8c44e845154b0cea543--mpdecimal-2.5.1.bottle_manifest.json\n",
      "\u001b[34m==>\u001b[0m \u001b[1mDownloading https://ghcr.io/v2/homebrew/core/mpdecimal/blobs/sha256:255b6226\u001b[0m\n",
      "Already downloaded: /Users/alecnigh/Library/Caches/Homebrew/downloads/7a713d7515bcb7f82a8513288e409415e6a73138d89788bfa127be0540e1886b--mpdecimal--2.5.1.big_sur.bottle.tar.gz\n",
      "\u001b[31mError:\u001b[0m python@3.9: the bottle needs the Apple Command Line Tools to be installed.\n",
      "  You can install them, if desired, with:\n",
      "    xcode-select --install\n",
      "\n",
      "You can try to install from source with:\n",
      "  brew install --build-from-source python@3.9\n",
      "Please note building from source is unsupported. You will encounter build\n",
      "failures with some formulae. If you experience any issues please create pull\n",
      "requests instead of asking for help on Homebrew's GitHub, Twitter or any other\n",
      "official channels.\n",
      "\u001b[32m==>\u001b[0m \u001b[1mChecking for dependents of upgraded formulae...\u001b[0m\n",
      "\u001b[34m==>\u001b[0m \u001b[1mNo broken dependents found!\u001b[0m\n",
      "\u001b[32m==>\u001b[0m \u001b[1mCaveats\u001b[0m\n",
      "\u001b[34m==>\u001b[0m \u001b[1mgit\u001b[0m\n",
      "The Tcl/Tk GUIs (e.g. gitk, git-gui) are now in the `git-gui` formula.\n",
      "\n",
      "zsh completions and functions have been installed to:\n",
      "  /usr/local/share/zsh/site-functions\n",
      "\n",
      "Emacs Lisp files have been installed to:\n",
      "  /usr/local/share/emacs/site-lisp/git\n"
     ]
    }
   ],
   "source": [
    "\n",
    "!brew upgrade"
   ]
  },
  {
   "cell_type": "code",
   "execution_count": 1,
   "metadata": {},
   "outputs": [],
   "source": []
  },
  {
   "cell_type": "code",
   "execution_count": 4,
   "metadata": {
    "ExecuteTime": {
     "end_time": "2019-04-22T16:39:09.312682Z",
     "start_time": "2019-04-22T16:39:09.309208Z"
    },
    "_kg_hide-input": true,
    "colab": {},
    "colab_type": "code",
    "id": "l9nfFTyj-KYY"
   },
   "outputs": [],
   "source": [
    "import warnings\n",
    "warnings.filterwarnings('ignore')\n",
    "from sklearn.preprocessing import LabelEncoder\n",
    "import numpy as np\n",
    "import pandas as pd\n",
    "import lightgbm\n",
    "from bayes_opt import BayesianOptimization\n",
    "from catboost import CatBoostClassifier, cv, Pool"
   ]
  },
  {
   "cell_type": "code",
   "execution_count": 5,
   "metadata": {
    "colab": {
     "base_uri": "https://localhost:8080/",
     "height": 85
    },
    "colab_type": "code",
    "id": "D16Dquw1AAK0",
    "outputId": "44167587-f22e-4bf5-a816-e2bcfdc6c4ee"
   },
   "outputs": [
    {
     "data": {
      "text/plain": [
       "['flight_delays_test.csv.zip',\n",
       " '.DS_Store',\n",
       " 'Bayesian_optimization_case_study.ipynb',\n",
       " 'flight_delays_train.csv.zip',\n",
       " '.ipynb_checkpoints']"
      ]
     },
     "execution_count": 5,
     "metadata": {},
     "output_type": "execute_result"
    }
   ],
   "source": [
    "import os\n",
    "os.listdir()"
   ]
  },
  {
   "cell_type": "markdown",
   "metadata": {
    "ExecuteTime": {
     "end_time": "2019-04-22T14:48:15.929012Z",
     "start_time": "2019-04-22T14:48:15.926574Z"
    },
    "colab_type": "text",
    "id": "AkBt3yds-KYu"
   },
   "source": [
    "## How does Bayesian optimization work?"
   ]
  },
  {
   "cell_type": "markdown",
   "metadata": {
    "colab_type": "text",
    "id": "E1kyBCUs-KYv"
   },
   "source": [
    "Bayesian optimization works by constructing a posterior distribution of functions (Gaussian process) that best describes the function you want to optimize. As the number of observations grows, the posterior distribution improves, and the algorithm becomes more certain of which regions in parameter space are worth exploring and which are not, as seen in the picture below."
   ]
  },
  {
   "cell_type": "markdown",
   "metadata": {
    "colab_type": "text",
    "id": "gAdHF72R-KYw"
   },
   "source": [
    "<img src=\"https://github.com/fmfn/BayesianOptimization/blob/master/examples/bo_example.png?raw=true\" />\n",
    "As you iterate over and over, the algorithm balances its needs of exploration and exploitation while taking into account what it knows about the target function. At each step, a Gaussian Process is fitted to the known samples (points previously explored), and the posterior distribution, combined with an exploration strategy (such as UCB — aka Upper Confidence Bound), or EI (Expected Improvement). This process is used to determine the next point that should be explored (see the gif below).\n",
    "<img src=\"https://github.com/fmfn/BayesianOptimization/raw/master/examples/bayesian_optimization.gif\" />"
   ]
  },
  {
   "cell_type": "markdown",
   "metadata": {
    "colab_type": "text",
    "id": "RTP8KUlLoYzu"
   },
   "source": [
    "## Let's look at a simple example"
   ]
  },
  {
   "cell_type": "markdown",
   "metadata": {
    "colab_type": "text",
    "id": "crpPqKdC-KYx"
   },
   "source": [
    "The first step is to create an optimizer. It uses two items:\n",
    "* function to optimize\n",
    "* bounds of parameters\n",
    "\n",
    "The function is the procedure that counts metrics of our model quality. The important thing is that our optimization will maximize the value on function. Smaller metrics are best. Hint: don't forget to use negative metric values."
   ]
  },
  {
   "cell_type": "markdown",
   "metadata": {
    "colab_type": "text",
    "id": "e09ciF8gpTfr"
   },
   "source": [
    "Here we define our simple function we want to optimize."
   ]
  },
  {
   "cell_type": "code",
   "execution_count": 6,
   "metadata": {
    "colab": {},
    "colab_type": "code",
    "id": "ofwvnfEwo5mG"
   },
   "outputs": [],
   "source": [
    "def simple_func(a, b):\n",
    "    return a + b"
   ]
  },
  {
   "cell_type": "markdown",
   "metadata": {
    "colab_type": "text",
    "id": "XCGsdciCpeI3"
   },
   "source": [
    "Now, we define our bounds of the parameters to optimize, within the Bayesian optimizer."
   ]
  },
  {
   "cell_type": "code",
   "execution_count": 7,
   "metadata": {
    "colab": {},
    "colab_type": "code",
    "id": "4jLYW2qnpOFr"
   },
   "outputs": [],
   "source": [
    "optimizer = BayesianOptimization(\n",
    "    simple_func,\n",
    "    {'a': (1, 3),\n",
    "    'b': (4, 7)})"
   ]
  },
  {
   "cell_type": "markdown",
   "metadata": {
    "colab_type": "text",
    "id": "dg6LdYx8pq2T"
   },
   "source": [
    "These are the main parameters of this function:\n",
    "\n",
    "* **n_iter:** This is how many steps of Bayesian optimization you want to perform. The more steps, the more likely you are to find a good maximum.\n",
    "\n",
    "* **init_points:** This is how many steps of random exploration you want to perform. Random exploration can help by diversifying the exploration space."
   ]
  },
  {
   "cell_type": "markdown",
   "metadata": {
    "colab_type": "text",
    "id": "i-GKMJ1uqMYv"
   },
   "source": [
    "Let's run an example where we use the optimizer to find the best values to maximize the target value for a and b given the inputs of 3 and 2."
   ]
  },
  {
   "cell_type": "code",
   "execution_count": 8,
   "metadata": {
    "colab": {
     "base_uri": "https://localhost:8080/",
     "height": 153
    },
    "colab_type": "code",
    "id": "Oy44Ro7wqNat",
    "outputId": "9cc64d54-b1e6-46d1-dc29-4c0039a1c72d"
   },
   "outputs": [
    {
     "name": "stdout",
     "output_type": "stream",
     "text": [
      "|   iter    |  target   |     a     |     b     |\n",
      "-------------------------------------------------\n",
      "| \u001b[0m 1       \u001b[0m | \u001b[0m 8.353   \u001b[0m | \u001b[0m 1.425   \u001b[0m | \u001b[0m 6.929   \u001b[0m |\n",
      "| \u001b[0m 2       \u001b[0m | \u001b[0m 7.722   \u001b[0m | \u001b[0m 1.357   \u001b[0m | \u001b[0m 6.365   \u001b[0m |\n",
      "| \u001b[0m 3       \u001b[0m | \u001b[0m 7.968   \u001b[0m | \u001b[0m 2.13    \u001b[0m | \u001b[0m 5.838   \u001b[0m |\n",
      "| \u001b[0m 4       \u001b[0m | \u001b[0m 8.041   \u001b[0m | \u001b[0m 2.249   \u001b[0m | \u001b[0m 5.792   \u001b[0m |\n",
      "| \u001b[0m 5       \u001b[0m | \u001b[0m 6.633   \u001b[0m | \u001b[0m 2.227   \u001b[0m | \u001b[0m 4.407   \u001b[0m |\n",
      "=================================================\n"
     ]
    }
   ],
   "source": [
    "optimizer.maximize(3,2)"
   ]
  },
  {
   "cell_type": "markdown",
   "metadata": {
    "colab_type": "text",
    "id": "tyKFMF2Hq2Sx"
   },
   "source": [
    "Great, now let's print the best parameters and the associated maximized target."
   ]
  },
  {
   "cell_type": "code",
   "execution_count": 9,
   "metadata": {
    "colab": {
     "base_uri": "https://localhost:8080/",
     "height": 51
    },
    "colab_type": "code",
    "id": "_H6DixyfscV_",
    "outputId": "fd0c35d7-e30d-4d30-9ab2-12c0fa837971"
   },
   "outputs": [
    {
     "name": "stdout",
     "output_type": "stream",
     "text": [
      "{'a': 1.4245116304941807, 'b': 6.928538295392055}\n"
     ]
    },
    {
     "data": {
      "text/plain": [
       "8.353049925886236"
      ]
     },
     "execution_count": 9,
     "metadata": {},
     "output_type": "execute_result"
    }
   ],
   "source": [
    "print(optimizer.max['params']);optimizer.max['target']"
   ]
  },
  {
   "cell_type": "markdown",
   "metadata": {
    "colab_type": "text",
    "id": "tQ1T1V6Mspi4"
   },
   "source": [
    "## Test it on real data using the Light GBM"
   ]
  },
  {
   "cell_type": "markdown",
   "metadata": {
    "colab_type": "text",
    "id": "y_oGwREZkm4h"
   },
   "source": [
    "The dataset we will be working with is the famous flight departures dataset. Our modeling goal will be to predict if a flight departure is going to be delayed by 15 minutes based on the other attributes in our dataset. As part of this modeling exercise, we will use Bayesian hyperparameter optimization to identify the best parameters for our model."
   ]
  },
  {
   "cell_type": "markdown",
   "metadata": {
    "colab_type": "text",
    "id": "abYSagjQANDZ"
   },
   "source": [
    "**<font color='teal'> You can load the zipped csv files just as you would regular csv files using Pandas read_csv. In the next cell load the train and test data into two seperate dataframes. </font>**\n"
   ]
  },
  {
   "cell_type": "code",
   "execution_count": 10,
   "metadata": {
    "colab": {},
    "colab_type": "code",
    "id": "EWKBApVuAeJe"
   },
   "outputs": [],
   "source": [
    "train_df = pd.read_csv('flight_delays_train.csv.zip')\n",
    "test_df = pd.read_csv('flight_delays_test.csv.zip')"
   ]
  },
  {
   "cell_type": "markdown",
   "metadata": {
    "colab_type": "text",
    "id": "OapNcT9Eikis"
   },
   "source": [
    "**<font color='teal'> Print the top five rows of the train dataframe and review the columns in the data. </font>**"
   ]
  },
  {
   "cell_type": "code",
   "execution_count": 11,
   "metadata": {
    "colab": {
     "base_uri": "https://localhost:8080/",
     "height": 204
    },
    "colab_type": "code",
    "id": "__4cXZ8iiYaC",
    "outputId": "8718ad4b-8955-486c-9ae8-1dee6aa6c2fb"
   },
   "outputs": [
    {
     "data": {
      "text/html": [
       "<div>\n",
       "<style scoped>\n",
       "    .dataframe tbody tr th:only-of-type {\n",
       "        vertical-align: middle;\n",
       "    }\n",
       "\n",
       "    .dataframe tbody tr th {\n",
       "        vertical-align: top;\n",
       "    }\n",
       "\n",
       "    .dataframe thead th {\n",
       "        text-align: right;\n",
       "    }\n",
       "</style>\n",
       "<table border=\"1\" class=\"dataframe\">\n",
       "  <thead>\n",
       "    <tr style=\"text-align: right;\">\n",
       "      <th></th>\n",
       "      <th>Month</th>\n",
       "      <th>DayofMonth</th>\n",
       "      <th>DayOfWeek</th>\n",
       "      <th>DepTime</th>\n",
       "      <th>UniqueCarrier</th>\n",
       "      <th>Origin</th>\n",
       "      <th>Dest</th>\n",
       "      <th>Distance</th>\n",
       "      <th>dep_delayed_15min</th>\n",
       "    </tr>\n",
       "  </thead>\n",
       "  <tbody>\n",
       "    <tr>\n",
       "      <th>0</th>\n",
       "      <td>c-8</td>\n",
       "      <td>c-21</td>\n",
       "      <td>c-7</td>\n",
       "      <td>1934</td>\n",
       "      <td>AA</td>\n",
       "      <td>ATL</td>\n",
       "      <td>DFW</td>\n",
       "      <td>732</td>\n",
       "      <td>N</td>\n",
       "    </tr>\n",
       "    <tr>\n",
       "      <th>1</th>\n",
       "      <td>c-4</td>\n",
       "      <td>c-20</td>\n",
       "      <td>c-3</td>\n",
       "      <td>1548</td>\n",
       "      <td>US</td>\n",
       "      <td>PIT</td>\n",
       "      <td>MCO</td>\n",
       "      <td>834</td>\n",
       "      <td>N</td>\n",
       "    </tr>\n",
       "    <tr>\n",
       "      <th>2</th>\n",
       "      <td>c-9</td>\n",
       "      <td>c-2</td>\n",
       "      <td>c-5</td>\n",
       "      <td>1422</td>\n",
       "      <td>XE</td>\n",
       "      <td>RDU</td>\n",
       "      <td>CLE</td>\n",
       "      <td>416</td>\n",
       "      <td>N</td>\n",
       "    </tr>\n",
       "    <tr>\n",
       "      <th>3</th>\n",
       "      <td>c-11</td>\n",
       "      <td>c-25</td>\n",
       "      <td>c-6</td>\n",
       "      <td>1015</td>\n",
       "      <td>OO</td>\n",
       "      <td>DEN</td>\n",
       "      <td>MEM</td>\n",
       "      <td>872</td>\n",
       "      <td>N</td>\n",
       "    </tr>\n",
       "    <tr>\n",
       "      <th>4</th>\n",
       "      <td>c-10</td>\n",
       "      <td>c-7</td>\n",
       "      <td>c-6</td>\n",
       "      <td>1828</td>\n",
       "      <td>WN</td>\n",
       "      <td>MDW</td>\n",
       "      <td>OMA</td>\n",
       "      <td>423</td>\n",
       "      <td>Y</td>\n",
       "    </tr>\n",
       "  </tbody>\n",
       "</table>\n",
       "</div>"
      ],
      "text/plain": [
       "  Month DayofMonth DayOfWeek  DepTime UniqueCarrier Origin Dest  Distance  \\\n",
       "0   c-8       c-21       c-7     1934            AA    ATL  DFW       732   \n",
       "1   c-4       c-20       c-3     1548            US    PIT  MCO       834   \n",
       "2   c-9        c-2       c-5     1422            XE    RDU  CLE       416   \n",
       "3  c-11       c-25       c-6     1015            OO    DEN  MEM       872   \n",
       "4  c-10        c-7       c-6     1828            WN    MDW  OMA       423   \n",
       "\n",
       "  dep_delayed_15min  \n",
       "0                 N  \n",
       "1                 N  \n",
       "2                 N  \n",
       "3                 N  \n",
       "4                 Y  "
      ]
     },
     "execution_count": 11,
     "metadata": {},
     "output_type": "execute_result"
    }
   ],
   "source": [
    "train_df.head()"
   ]
  },
  {
   "cell_type": "markdown",
   "metadata": {
    "colab_type": "text",
    "id": "UxGBsPQhffgd"
   },
   "source": [
    "**<font color='teal'> Use the describe function to review the numeric columns in the train dataframe. </font>**"
   ]
  },
  {
   "cell_type": "code",
   "execution_count": 12,
   "metadata": {
    "colab": {
     "base_uri": "https://localhost:8080/",
     "height": 297
    },
    "colab_type": "code",
    "id": "_bRRKG3DAtae",
    "outputId": "7cfb9975-ec97-422c-abbd-98923a0b7aec"
   },
   "outputs": [
    {
     "data": {
      "text/html": [
       "<div>\n",
       "<style scoped>\n",
       "    .dataframe tbody tr th:only-of-type {\n",
       "        vertical-align: middle;\n",
       "    }\n",
       "\n",
       "    .dataframe tbody tr th {\n",
       "        vertical-align: top;\n",
       "    }\n",
       "\n",
       "    .dataframe thead th {\n",
       "        text-align: right;\n",
       "    }\n",
       "</style>\n",
       "<table border=\"1\" class=\"dataframe\">\n",
       "  <thead>\n",
       "    <tr style=\"text-align: right;\">\n",
       "      <th></th>\n",
       "      <th>DepTime</th>\n",
       "      <th>Distance</th>\n",
       "    </tr>\n",
       "  </thead>\n",
       "  <tbody>\n",
       "    <tr>\n",
       "      <th>count</th>\n",
       "      <td>100000.000000</td>\n",
       "      <td>100000.00000</td>\n",
       "    </tr>\n",
       "    <tr>\n",
       "      <th>mean</th>\n",
       "      <td>1341.523880</td>\n",
       "      <td>729.39716</td>\n",
       "    </tr>\n",
       "    <tr>\n",
       "      <th>std</th>\n",
       "      <td>476.378445</td>\n",
       "      <td>574.61686</td>\n",
       "    </tr>\n",
       "    <tr>\n",
       "      <th>min</th>\n",
       "      <td>1.000000</td>\n",
       "      <td>30.00000</td>\n",
       "    </tr>\n",
       "    <tr>\n",
       "      <th>25%</th>\n",
       "      <td>931.000000</td>\n",
       "      <td>317.00000</td>\n",
       "    </tr>\n",
       "    <tr>\n",
       "      <th>50%</th>\n",
       "      <td>1330.000000</td>\n",
       "      <td>575.00000</td>\n",
       "    </tr>\n",
       "    <tr>\n",
       "      <th>75%</th>\n",
       "      <td>1733.000000</td>\n",
       "      <td>957.00000</td>\n",
       "    </tr>\n",
       "    <tr>\n",
       "      <th>max</th>\n",
       "      <td>2534.000000</td>\n",
       "      <td>4962.00000</td>\n",
       "    </tr>\n",
       "  </tbody>\n",
       "</table>\n",
       "</div>"
      ],
      "text/plain": [
       "             DepTime      Distance\n",
       "count  100000.000000  100000.00000\n",
       "mean     1341.523880     729.39716\n",
       "std       476.378445     574.61686\n",
       "min         1.000000      30.00000\n",
       "25%       931.000000     317.00000\n",
       "50%      1330.000000     575.00000\n",
       "75%      1733.000000     957.00000\n",
       "max      2534.000000    4962.00000"
      ]
     },
     "execution_count": 12,
     "metadata": {},
     "output_type": "execute_result"
    }
   ],
   "source": [
    "train_df.describe()"
   ]
  },
  {
   "cell_type": "markdown",
   "metadata": {
    "colab_type": "text",
    "id": "i6k-_fI5Aiyh"
   },
   "source": [
    "Notice, `DepTime` is the departure time in a numeric representation in 2400 hours. "
   ]
  },
  {
   "cell_type": "markdown",
   "metadata": {
    "colab_type": "text",
    "id": "gtZS4-hrlQah"
   },
   "source": [
    " **<font color='teal'>The response variable is 'dep_delayed_15min' which is a categorical column, so we need to map the Y for yes and N for no values to 1 and 0. Run the code in the next cell to do this.</font>**"
   ]
  },
  {
   "cell_type": "code",
   "execution_count": 13,
   "metadata": {
    "ExecuteTime": {
     "end_time": "2019-04-22T15:38:42.677690Z",
     "start_time": "2019-04-22T15:38:42.481963Z"
    },
    "colab": {},
    "colab_type": "code",
    "id": "yRlOTbnW-KYc"
   },
   "outputs": [],
   "source": [
    "train_df = train_df[train_df.DepTime <= 2400].copy()\n",
    "y_train = train_df['dep_delayed_15min'].map({'Y': 1, 'N': 0}).values"
   ]
  },
  {
   "cell_type": "markdown",
   "metadata": {
    "colab_type": "text",
    "id": "z3WPkFQO9uo9"
   },
   "source": [
    "## Feature Engineering\n",
    "Use these defined functions to create additional features for the model. Run the cell to add the functions to your workspace."
   ]
  },
  {
   "cell_type": "code",
   "execution_count": 14,
   "metadata": {
    "colab": {},
    "colab_type": "code",
    "id": "cXqsqz5W9t3r"
   },
   "outputs": [],
   "source": [
    "def label_enc(df_column):\n",
    "    df_column = LabelEncoder().fit_transform(df_column)\n",
    "    return df_column\n",
    "\n",
    "def make_harmonic_features_sin(value, period=2400):\n",
    "    value *= 2 * np.pi / period \n",
    "    return np.sin(value)\n",
    "\n",
    "def make_harmonic_features_cos(value, period=2400):\n",
    "    value *= 2 * np.pi / period \n",
    "    return np.cos(value)\n",
    "\n",
    "def feature_eng(df):\n",
    "    df['flight'] = df['Origin']+df['Dest']\n",
    "    df['Month'] = df.Month.map(lambda x: x.split('-')[-1]).astype('int32')\n",
    "    df['DayofMonth'] = df.DayofMonth.map(lambda x: x.split('-')[-1]).astype('uint8')\n",
    "    df['begin_of_month'] = (df['DayofMonth'] < 10).astype('uint8')\n",
    "    df['midddle_of_month'] = ((df['DayofMonth'] >= 10)&(df['DayofMonth'] < 20)).astype('uint8')\n",
    "    df['end_of_month'] = (df['DayofMonth'] >= 20).astype('uint8')\n",
    "    df['DayOfWeek'] = df.DayOfWeek.map(lambda x: x.split('-')[-1]).astype('uint8')\n",
    "    df['hour'] = df.DepTime.map(lambda x: x/100).astype('int32')\n",
    "    df['morning'] = df['hour'].map(lambda x: 1 if (x <= 11)& (x >= 7) else 0).astype('uint8')\n",
    "    df['day'] = df['hour'].map(lambda x: 1 if (x >= 12) & (x <= 18) else 0).astype('uint8')\n",
    "    df['evening'] = df['hour'].map(lambda x: 1 if (x >= 19) & (x <= 23) else 0).astype('uint8')\n",
    "    df['night'] = df['hour'].map(lambda x: 1 if (x >= 0) & (x <= 6) else 0).astype('int32')\n",
    "    df['winter'] = df['Month'].map(lambda x: x in [12, 1, 2]).astype('int32')\n",
    "    df['spring'] = df['Month'].map(lambda x: x in [3, 4, 5]).astype('int32')\n",
    "    df['summer'] = df['Month'].map(lambda x: x in [6, 7, 8]).astype('int32')\n",
    "    df['autumn'] = df['Month'].map(lambda x: x in [9, 10, 11]).astype('int32')\n",
    "    df['holiday'] = (df['DayOfWeek'] >= 5).astype(int) \n",
    "    df['weekday'] = (df['DayOfWeek'] < 5).astype(int)\n",
    "    df['airport_dest_per_month'] = df.groupby(['Dest', 'Month'])['Dest'].transform('count')\n",
    "    df['airport_origin_per_month'] = df.groupby(['Origin', 'Month'])['Origin'].transform('count')\n",
    "    df['airport_dest_count'] = df.groupby(['Dest'])['Dest'].transform('count')\n",
    "    df['airport_origin_count'] = df.groupby(['Origin'])['Origin'].transform('count')\n",
    "    df['carrier_count'] = df.groupby(['UniqueCarrier'])['Dest'].transform('count')\n",
    "    df['carrier_count_per month'] = df.groupby(['UniqueCarrier', 'Month'])['Dest'].transform('count')\n",
    "    df['deptime_cos'] = df['DepTime'].map(make_harmonic_features_cos)\n",
    "    df['deptime_sin'] = df['DepTime'].map(make_harmonic_features_sin)\n",
    "    df['flightUC'] = df['flight']+df['UniqueCarrier']\n",
    "    df['DestUC'] = df['Dest']+df['UniqueCarrier']\n",
    "    df['OriginUC'] = df['Origin']+df['UniqueCarrier']\n",
    "    return df.drop('DepTime', axis=1)"
   ]
  },
  {
   "cell_type": "markdown",
   "metadata": {
    "colab_type": "text",
    "id": "-BYbxXpU-FGE"
   },
   "source": [
    "Concatenate the training and testing dataframes.\n"
   ]
  },
  {
   "cell_type": "code",
   "execution_count": 15,
   "metadata": {
    "colab": {},
    "colab_type": "code",
    "id": "Cj6bfSNw_RAf"
   },
   "outputs": [],
   "source": [
    "full_df = pd.concat([train_df.drop('dep_delayed_15min', axis=1), test_df])\n",
    "full_df = feature_eng(full_df)"
   ]
  },
  {
   "cell_type": "markdown",
   "metadata": {
    "colab_type": "text",
    "id": "GSO8JbfM_W-F"
   },
   "source": [
    "Apply the earlier defined feature engineering functions to the full dataframe."
   ]
  },
  {
   "cell_type": "code",
   "execution_count": 16,
   "metadata": {
    "colab": {},
    "colab_type": "code",
    "id": "x6RfAINftjwi"
   },
   "outputs": [],
   "source": [
    "for column in ['UniqueCarrier', 'Origin', 'Dest','flight',  'flightUC', 'DestUC', 'OriginUC']:\n",
    "    full_df[column] = label_enc(full_df[column])"
   ]
  },
  {
   "cell_type": "markdown",
   "metadata": {
    "colab_type": "text",
    "id": "IJAw1RGB_ZuM"
   },
   "source": [
    "\n",
    "Split the new full dataframe into X_train and X_test. "
   ]
  },
  {
   "cell_type": "code",
   "execution_count": 17,
   "metadata": {
    "colab": {},
    "colab_type": "code",
    "id": "15cPtQU5tjfz"
   },
   "outputs": [],
   "source": [
    "X_train = full_df[:train_df.shape[0]]\n",
    "X_test = full_df[train_df.shape[0]:]"
   ]
  },
  {
   "cell_type": "markdown",
   "metadata": {
    "colab_type": "text",
    "id": "umfAw-9JErLV"
   },
   "source": [
    "Create a list of the categorical features."
   ]
  },
  {
   "cell_type": "code",
   "execution_count": 18,
   "metadata": {
    "ExecuteTime": {
     "end_time": "2019-04-22T14:31:58.412296Z",
     "start_time": "2019-04-22T14:31:58.409088Z"
    },
    "colab": {},
    "colab_type": "code",
    "id": "5ibeVyNb-KZI"
   },
   "outputs": [],
   "source": [
    "categorical_features = ['Month',  'DayOfWeek', 'UniqueCarrier', 'Origin', 'Dest','flight',  'flightUC', 'DestUC', 'OriginUC']"
   ]
  },
  {
   "cell_type": "markdown",
   "metadata": {
    "colab_type": "text",
    "id": "NzMIsMPIETVk"
   },
   "source": [
    "Let's build a light GBM model to test the bayesian optimizer."
   ]
  },
  {
   "cell_type": "markdown",
   "metadata": {
    "ExecuteTime": {
     "end_time": "2019-04-22T15:18:04.466965Z",
     "start_time": "2019-04-22T15:18:04.457992Z"
    },
    "colab_type": "text",
    "id": "2hfm1i5G-KZH"
   },
   "source": [
    "### [LightGBM](https://lightgbm.readthedocs.io/en/latest/) is a gradient boosting framework that uses tree-based learning algorithms. It is designed to be distributed and efficient with the following advantages:\n",
    "\n",
    "* Faster training speed and higher efficiency.\n",
    "* Lower memory usage.\n",
    "* Better accuracy.\n",
    "* Support of parallel and GPU learning.\n",
    "* Capable of handling large-scale data."
   ]
  },
  {
   "cell_type": "markdown",
   "metadata": {
    "colab_type": "text",
    "id": "jf-3F2Wg-KZL"
   },
   "source": [
    "First, we define the function we want to maximize and that will count cross-validation metrics of lightGBM for our parameters.\n",
    "\n",
    "Some params such as num_leaves, max_depth, min_child_samples, min_data_in_leaf should be integers."
   ]
  },
  {
   "cell_type": "code",
   "execution_count": 19,
   "metadata": {
    "ExecuteTime": {
     "end_time": "2019-04-22T15:40:14.034265Z",
     "start_time": "2019-04-22T15:40:14.027868Z"
    },
    "colab": {},
    "colab_type": "code",
    "id": "LyUJBhGX-KZM"
   },
   "outputs": [],
   "source": [
    "def lgb_eval(num_leaves,max_depth,lambda_l2,lambda_l1,min_child_samples, min_data_in_leaf):\n",
    "    params = {\n",
    "        \"objective\" : \"binary\",\n",
    "        \"metric\" : \"auc\", \n",
    "        'is_unbalance': True,\n",
    "        \"num_leaves\" : int(num_leaves),\n",
    "        \"max_depth\" : int(max_depth),\n",
    "        \"lambda_l2\" : lambda_l2,\n",
    "        \"lambda_l1\" : lambda_l1,\n",
    "        \"num_threads\" : 20,\n",
    "        \"min_child_samples\" : int(min_child_samples),\n",
    "        'min_data_in_leaf': int(min_data_in_leaf),\n",
    "        \"learning_rate\" : 0.03,\n",
    "        \"subsample_freq\" : 5,\n",
    "        \"bagging_seed\" : 42,\n",
    "        \"verbosity\" : -1\n",
    "    }\n",
    "    lgtrain = lightgbm.Dataset(X_train, y_train,categorical_feature=categorical_features)\n",
    "    cv_result = lightgbm.cv(params,\n",
    "                       lgtrain,\n",
    "                       1000,\n",
    "                       early_stopping_rounds=100,\n",
    "                       stratified=True,\n",
    "                       nfold=3)\n",
    "    return cv_result['auc-mean'][-1]"
   ]
  },
  {
   "cell_type": "markdown",
   "metadata": {
    "colab_type": "text",
    "id": "FJwqBhdeF11Q"
   },
   "source": [
    "Apply the Bayesian optimizer to the function we created in the previous step to identify the best hyperparameters. We will run 10 iterations and set init_points = 2.\n"
   ]
  },
  {
   "cell_type": "code",
   "execution_count": 20,
   "metadata": {
    "ExecuteTime": {
     "end_time": "2019-04-22T15:48:04.682447Z",
     "start_time": "2019-04-22T15:40:14.641634Z"
    },
    "colab": {
     "base_uri": "https://localhost:8080/",
     "height": 51
    },
    "colab_type": "code",
    "id": "JheCOkUE-KZP",
    "outputId": "8f37ee51-885d-44e4-cdcd-ceb7abd58b61"
   },
   "outputs": [
    {
     "name": "stdout",
     "output_type": "stream",
     "text": [
      "|   iter    |  target   | lambda_l1 | lambda_l2 | max_depth | min_ch... | min_da... | num_le... |\n",
      "-------------------------------------------------------------------------------------------------\n",
      "[LightGBM] [Warning] min_data_in_leaf is set=1412, min_child_samples=4210 will be ignored. Current value: min_data_in_leaf=1412\n",
      "| \u001b[0m 1       \u001b[0m | \u001b[0m 0.7447  \u001b[0m | \u001b[0m 0.02587 \u001b[0m | \u001b[0m 0.00697 \u001b[0m | \u001b[0m 6.587   \u001b[0m | \u001b[0m 4.211e+0\u001b[0m | \u001b[0m 1.413e+0\u001b[0m | \u001b[0m 3.135e+0\u001b[0m |\n",
      "| \u001b[0m 2       \u001b[0m | \u001b[0m 0.721   \u001b[0m | \u001b[0m 0.04038 \u001b[0m | \u001b[0m 0.03768 \u001b[0m | \u001b[0m 26.86   \u001b[0m | \u001b[0m 830.3   \u001b[0m | \u001b[0m 179.5   \u001b[0m | \u001b[0m 304.6   \u001b[0m |\n",
      "| \u001b[0m 3       \u001b[0m | \u001b[0m 0.7205  \u001b[0m | \u001b[0m 0.01266 \u001b[0m | \u001b[0m 0.02155 \u001b[0m | \u001b[0m 54.28   \u001b[0m | \u001b[0m 4.957e+0\u001b[0m | \u001b[0m 506.2   \u001b[0m | \u001b[0m 80.59   \u001b[0m |\n",
      "| \u001b[0m 4       \u001b[0m | \u001b[0m 0.7198  \u001b[0m | \u001b[0m 0.01629 \u001b[0m | \u001b[0m 0.01695 \u001b[0m | \u001b[0m 52.77   \u001b[0m | \u001b[0m 6.475e+0\u001b[0m | \u001b[0m 304.2   \u001b[0m | \u001b[0m 2.367e+0\u001b[0m |\n",
      "| \u001b[0m 5       \u001b[0m | \u001b[0m 0.7202  \u001b[0m | \u001b[0m 0.007847\u001b[0m | \u001b[0m 0.006598\u001b[0m | \u001b[0m 47.73   \u001b[0m | \u001b[0m 5.524e+0\u001b[0m | \u001b[0m 295.7   \u001b[0m | \u001b[0m 1.193e+0\u001b[0m |\n",
      "| \u001b[0m 6       \u001b[0m | \u001b[0m 0.7441  \u001b[0m | \u001b[0m 0.03362 \u001b[0m | \u001b[0m 0.01168 \u001b[0m | \u001b[0m 47.87   \u001b[0m | \u001b[0m 3.54e+03\u001b[0m | \u001b[0m 1.964e+0\u001b[0m | \u001b[0m 3.829e+0\u001b[0m |\n",
      "| \u001b[0m 7       \u001b[0m | \u001b[0m 0.7196  \u001b[0m | \u001b[0m 0.03291 \u001b[0m | \u001b[0m 0.01926 \u001b[0m | \u001b[0m 46.92   \u001b[0m | \u001b[0m 3.053e+0\u001b[0m | \u001b[0m 309.3   \u001b[0m | \u001b[0m 3.999e+0\u001b[0m |\n",
      "| \u001b[0m 8       \u001b[0m | \u001b[0m 0.7442  \u001b[0m | \u001b[0m 0.02809 \u001b[0m | \u001b[0m 0.01546 \u001b[0m | \u001b[0m 55.35   \u001b[0m | \u001b[0m 4.599e+0\u001b[0m | \u001b[0m 1.93e+03\u001b[0m | \u001b[0m 3.867e+0\u001b[0m |\n",
      "| \u001b[0m 9       \u001b[0m | \u001b[0m 0.7443  \u001b[0m | \u001b[0m 0.009949\u001b[0m | \u001b[0m 0.04779 \u001b[0m | \u001b[0m 30.62   \u001b[0m | \u001b[0m 3.487e+0\u001b[0m | \u001b[0m 1.981e+0\u001b[0m | \u001b[0m 2.037e+0\u001b[0m |\n",
      "| \u001b[0m 10      \u001b[0m | \u001b[0m 0.7443  \u001b[0m | \u001b[0m 0.01784 \u001b[0m | \u001b[0m 0.0333  \u001b[0m | \u001b[0m 35.5    \u001b[0m | \u001b[0m 9.969e+0\u001b[0m | \u001b[0m 1.877e+0\u001b[0m | \u001b[0m 3.883e+0\u001b[0m |\n",
      "| \u001b[0m 11      \u001b[0m | \u001b[0m 0.7445  \u001b[0m | \u001b[0m 0.01604 \u001b[0m | \u001b[0m 0.02178 \u001b[0m | \u001b[0m 19.55   \u001b[0m | \u001b[0m 9.982e+0\u001b[0m | \u001b[0m 1.828e+0\u001b[0m | \u001b[0m 1.652e+0\u001b[0m |\n",
      "| \u001b[0m 12      \u001b[0m | \u001b[0m 0.7218  \u001b[0m | \u001b[0m 0.04964 \u001b[0m | \u001b[0m 0.04928 \u001b[0m | \u001b[0m 13.75   \u001b[0m | \u001b[0m 9.989e+0\u001b[0m | \u001b[0m 104.4   \u001b[0m | \u001b[0m 3.392e+0\u001b[0m |\n",
      "=================================================================================================\n"
     ]
    }
   ],
   "source": [
    "lgbBO = BayesianOptimization(lgb_eval, {'num_leaves': (25, 4000),\n",
    "                                                'max_depth': (5, 63),\n",
    "                                                'lambda_l2': (0.0, 0.05),\n",
    "                                                'lambda_l1': (0.0, 0.05),\n",
    "                                                'min_child_samples': (50, 10000),\n",
    "                                                'min_data_in_leaf': (100, 2000)\n",
    "                                                })\n",
    "\n",
    "lgbBO.maximize(n_iter=10, init_points=2)"
   ]
  },
  {
   "cell_type": "markdown",
   "metadata": {
    "colab_type": "text",
    "id": "rdkxhhST-KZS"
   },
   "source": [
    " **<font color='teal'> Print the best result by using the '.max' function.</font>**"
   ]
  },
  {
   "cell_type": "code",
   "execution_count": 21,
   "metadata": {
    "ExecuteTime": {
     "end_time": "2019-04-22T15:49:01.513767Z",
     "start_time": "2019-04-22T15:49:01.509392Z"
    },
    "colab": {},
    "colab_type": "code",
    "id": "oc8z6mfy-KZS"
   },
   "outputs": [
    {
     "data": {
      "text/plain": [
       "{'target': 0.7447409178386217,\n",
       " 'params': {'lambda_l1': 0.02586654652516897,\n",
       "  'lambda_l2': 0.0069700557445385725,\n",
       "  'max_depth': 6.587170173194064,\n",
       "  'min_child_samples': 4210.970726505812,\n",
       "  'min_data_in_leaf': 1412.8226240103331,\n",
       "  'num_leaves': 3135.244397182431}}"
      ]
     },
     "execution_count": 21,
     "metadata": {},
     "output_type": "execute_result"
    }
   ],
   "source": [
    "lgbBO.max"
   ]
  },
  {
   "cell_type": "markdown",
   "metadata": {
    "ExecuteTime": {
     "end_time": "2019-04-22T15:50:29.049881Z",
     "start_time": "2019-04-22T15:50:29.045908Z"
    },
    "colab_type": "text",
    "id": "J5LAydKC-KZW"
   },
   "source": [
    "Review the process at each step by using the '.res[0]' function."
   ]
  },
  {
   "cell_type": "code",
   "execution_count": 22,
   "metadata": {
    "ExecuteTime": {
     "end_time": "2019-04-22T15:51:01.001688Z",
     "start_time": "2019-04-22T15:51:00.997484Z"
    },
    "colab": {},
    "colab_type": "code",
    "id": "X1ttZmrI-KZX"
   },
   "outputs": [
    {
     "data": {
      "text/plain": [
       "{'target': 0.7447409178386217,\n",
       " 'params': {'lambda_l1': 0.02586654652516897,\n",
       "  'lambda_l2': 0.0069700557445385725,\n",
       "  'max_depth': 6.587170173194064,\n",
       "  'min_child_samples': 4210.970726505812,\n",
       "  'min_data_in_leaf': 1412.8226240103331,\n",
       "  'num_leaves': 3135.244397182431}}"
      ]
     },
     "execution_count": 22,
     "metadata": {},
     "output_type": "execute_result"
    }
   ],
   "source": [
    "lgbBO.res[0]"
   ]
  },
  {
   "cell_type": "code",
   "execution_count": null,
   "metadata": {},
   "outputs": [],
   "source": []
  }
 ],
 "metadata": {
  "colab": {
   "name": "Bayesian_optimization_exercise.ipynb",
   "provenance": []
  },
  "deepnote_execution_queue": [],
  "kernelspec": {
   "display_name": "Python 3",
   "language": "python",
   "name": "python3"
  },
  "language_info": {
   "codemirror_mode": {
    "name": "ipython",
    "version": 3
   },
   "file_extension": ".py",
   "mimetype": "text/x-python",
   "name": "python",
   "nbconvert_exporter": "python",
   "pygments_lexer": "ipython3",
   "version": "3.8.10"
  },
  "varInspector": {
   "cols": {
    "lenName": 16,
    "lenType": 16,
    "lenVar": 40
   },
   "kernels_config": {
    "python": {
     "delete_cmd_postfix": "",
     "delete_cmd_prefix": "del ",
     "library": "var_list.py",
     "varRefreshCmd": "print(var_dic_list())"
    },
    "r": {
     "delete_cmd_postfix": ") ",
     "delete_cmd_prefix": "rm(",
     "library": "var_list.r",
     "varRefreshCmd": "cat(var_dic_list()) "
    }
   },
   "types_to_exclude": [
    "module",
    "function",
    "builtin_function_or_method",
    "instance",
    "_Feature"
   ],
   "window_display": false
  }
 },
 "nbformat": 4,
 "nbformat_minor": 1
}
