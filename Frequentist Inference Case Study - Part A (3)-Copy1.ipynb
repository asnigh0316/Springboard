{
 "cells": [
  {
   "cell_type": "markdown",
   "metadata": {},
   "source": [
    "# Frequentist Inference Case Study - Part A "
   ]
  },
  {
   "cell_type": "markdown",
   "metadata": {},
   "source": [
    "## 1. Learning objectives"
   ]
  },
  {
   "cell_type": "markdown",
   "metadata": {},
   "source": [
    "Welcome to part A of the Frequentist inference case study! The purpose of this case study is to help you apply the concepts associated with Frequentist inference in Python. Frequentist inference is the process of deriving conclusions about an underlying distribution via the observation of data. In particular, you'll practice writing Python code to apply the following statistical concepts: \n",
    "* the _z_-statistic\n",
    "* the _t_-statistic\n",
    "* the difference and relationship between the two\n",
    "* the Central Limit Theorem, including its assumptions and consequences\n",
    "* how to estimate the population mean and standard deviation from a sample\n",
    "* the concept of a sampling distribution of a test statistic, particularly for the mean\n",
    "* how to combine these concepts to calculate a confidence interval"
   ]
  },
  {
   "cell_type": "markdown",
   "metadata": {},
   "source": [
    "## Prerequisites"
   ]
  },
  {
   "cell_type": "markdown",
   "metadata": {},
   "source": [
    "To be able to complete this notebook, you are expected to have a basic understanding of:\n",
    "* what a random variable is (p.400 of Professor Spiegelhalter's *The Art of Statistics, hereinafter AoS*)\n",
    "* what a population, and a population distribution, are (p. 397 of *AoS*)\n",
    "* a high-level sense of what the normal distribution is (p. 394 of *AoS*)\n",
    "* what the t-statistic is (p. 275 of *AoS*)\n",
    "\n",
    "Happily, these should all be concepts with which you are reasonably familiar after having read ten chapters of Professor Spiegelhalter's book, *The Art of Statistics*.\n",
    "\n",
    "We'll try to relate the concepts in this case study back to page numbers in *The Art of Statistics* so that you can focus on the Python aspects of this case study. The second part (part B) of this case study will involve another, more real-world application of these tools. "
   ]
  },
  {
   "cell_type": "markdown",
   "metadata": {},
   "source": [
    "For this notebook, we will use data sampled from a known normal distribution. This allows us to compare our results with theoretical expectations."
   ]
  },
  {
   "cell_type": "markdown",
   "metadata": {},
   "source": [
    "## 2. An introduction to sampling from the normal distribution"
   ]
  },
  {
   "cell_type": "markdown",
   "metadata": {},
   "source": [
    "First, let's explore the ways we can generate the normal distribution. While there's a fair amount of interest in [sklearn](https://scikit-learn.org/stable/) within the machine learning community, you're likely to have heard of [scipy](https://docs.scipy.org/doc/scipy-0.15.1/reference/index.html) if you're coming from the sciences. For this assignment, you'll use [scipy.stats](https://docs.scipy.org/doc/scipy-0.15.1/reference/tutorial/stats.html) to complete your work. \n",
    "\n",
    "This assignment will require some digging around and getting your hands dirty (your learning is maximized that way)! You should have the research skills and the tenacity to do these tasks independently, but if you struggle, reach out to your immediate community and your mentor for help. "
   ]
  },
  {
   "cell_type": "code",
   "execution_count": 157,
   "metadata": {},
   "outputs": [],
   "source": [
    "from scipy.stats import norm\n",
    "from scipy.stats import t\n",
    "import scipy.stats as stats\n",
    "import numpy as np\n",
    "import pandas as pd\n",
    "from numpy.random import seed\n",
    "import matplotlib.pyplot as plt"
   ]
  },
  {
   "cell_type": "markdown",
   "metadata": {},
   "source": [
    "__Q1:__ Call up the documentation for the `norm` function imported above. (Hint: that documentation is [here](https://docs.scipy.org/doc/scipy/reference/generated/scipy.stats.norm.html)). What is the second listed method?"
   ]
  },
  {
   "cell_type": "code",
   "execution_count": 92,
   "metadata": {},
   "outputs": [
    {
     "ename": "NameError",
     "evalue": "name 'pdf' is not defined",
     "output_type": "error",
     "traceback": [
      "\u001b[0;31m---------------------------------------------------------------------------\u001b[0m",
      "\u001b[0;31mNameError\u001b[0m                                 Traceback (most recent call last)",
      "\u001b[0;32m<ipython-input-92-6a4836b0136c>\u001b[0m in \u001b[0;36m<module>\u001b[0;34m\u001b[0m\n\u001b[0;32m----> 1\u001b[0;31m \u001b[0mpdf\u001b[0m\u001b[0;34m(\u001b[0m\u001b[0mx\u001b[0m\u001b[0;34m,\u001b[0m \u001b[0mloc\u001b[0m\u001b[0;34m=\u001b[0m\u001b[0;36m0\u001b[0m\u001b[0;34m,\u001b[0m \u001b[0mscale\u001b[0m\u001b[0;34m=\u001b[0m\u001b[0;36m1\u001b[0m\u001b[0;34m)\u001b[0m\u001b[0;34m\u001b[0m\u001b[0;34m\u001b[0m\u001b[0m\n\u001b[0m",
      "\u001b[0;31mNameError\u001b[0m: name 'pdf' is not defined"
     ]
    }
   ],
   "source": [
    "pdf(x, loc=0, scale=1)"
   ]
  },
  {
   "cell_type": "markdown",
   "metadata": {},
   "source": [
    "__A:__"
   ]
  },
  {
   "cell_type": "markdown",
   "metadata": {},
   "source": [
    "__Q2:__ Use the method that generates random variates to draw five samples from the standard normal distribution. "
   ]
  },
  {
   "cell_type": "markdown",
   "metadata": {},
   "source": [
    "__A:__"
   ]
  },
  {
   "cell_type": "code",
   "execution_count": 268,
   "metadata": {},
   "outputs": [
    {
     "data": {
      "text/plain": [
       "array([-0.84800948,  1.30590636,  0.92420797,  0.6404118 , -1.05473698])"
      ]
     },
     "execution_count": 268,
     "metadata": {},
     "output_type": "execute_result"
    }
   ],
   "source": [
    "seed(47)\n",
    "# draw five samples here\n",
    "\n",
    "rv = norm()\n",
    "x = rv.rvs(size=5)\n",
    "x"
   ]
  },
  {
   "cell_type": "markdown",
   "metadata": {},
   "source": [
    "__Q3:__ What is the mean of this sample? Is it exactly equal to the value you expected? Hint: the sample was drawn from the standard normal distribution. If you want a reminder of the properties of this distribution, check out p. 85 of *AoS*. "
   ]
  },
  {
   "cell_type": "markdown",
   "metadata": {},
   "source": [
    "__A:__"
   ]
  },
  {
   "cell_type": "code",
   "execution_count": 269,
   "metadata": {},
   "outputs": [
    {
     "data": {
      "text/plain": [
       "0.19355593334131074"
      ]
     },
     "execution_count": 269,
     "metadata": {},
     "output_type": "execute_result"
    }
   ],
   "source": [
    "# Calculate and print the mean here, hint: use np.mean()\n",
    "mean = np.mean(x)\n",
    "mean"
   ]
  },
  {
   "cell_type": "markdown",
   "metadata": {},
   "source": [
    "__Q4:__ What is the standard deviation of these numbers? Calculate this manually here as $\\sqrt{\\frac{\\sum_i(x_i - \\bar{x})^2}{n}}$ (This is just the definition of **standard deviation** given by Professor Spiegelhalter on p.403 of *AoS*). Hint: np.sqrt() and np.sum() will be useful here and remember that numPy supports [broadcasting](https://docs.scipy.org/doc/numpy/user/basics.broadcasting.html)."
   ]
  },
  {
   "cell_type": "code",
   "execution_count": 28,
   "metadata": {},
   "outputs": [
    {
     "name": "stdout",
     "output_type": "stream",
     "text": [
      "<class 'scipy.stats._distn_infrastructure.rv_frozen'>\n"
     ]
    },
    {
     "ename": "TypeError",
     "evalue": "'rv_frozen' object is not iterable",
     "output_type": "error",
     "traceback": [
      "\u001b[0;31m---------------------------------------------------------------------------\u001b[0m",
      "\u001b[0;31mTypeError\u001b[0m                                 Traceback (most recent call last)",
      "\u001b[0;32m<ipython-input-28-d3a2fc3892ce>\u001b[0m in \u001b[0;36m<module>\u001b[0;34m\u001b[0m\n\u001b[1;32m      1\u001b[0m \u001b[0mprint\u001b[0m\u001b[0;34m(\u001b[0m\u001b[0mtype\u001b[0m\u001b[0;34m(\u001b[0m\u001b[0mrv\u001b[0m\u001b[0;34m)\u001b[0m\u001b[0;34m)\u001b[0m\u001b[0;34m\u001b[0m\u001b[0;34m\u001b[0m\u001b[0m\n\u001b[0;32m----> 2\u001b[0;31m \u001b[0mnew\u001b[0m \u001b[0;34m=\u001b[0m \u001b[0;34m[\u001b[0m\u001b[0;34m*\u001b[0m\u001b[0mmap\u001b[0m\u001b[0;34m(\u001b[0m\u001b[0mint\u001b[0m\u001b[0;34m,\u001b[0m \u001b[0mrv\u001b[0m\u001b[0;34m)\u001b[0m\u001b[0;34m]\u001b[0m\u001b[0;34m\u001b[0m\u001b[0;34m\u001b[0m\u001b[0m\n\u001b[0m",
      "\u001b[0;31mTypeError\u001b[0m: 'rv_frozen' object is not iterable"
     ]
    }
   ],
   "source": [
    "print(type(rv))\n"
   ]
  },
  {
   "cell_type": "code",
   "execution_count": 270,
   "metadata": {},
   "outputs": [
    {
     "data": {
      "text/plain": [
       "array([-0.84800948,  1.30590636,  0.92420797,  0.6404118 , -1.05473698])"
      ]
     },
     "execution_count": 270,
     "metadata": {},
     "output_type": "execute_result"
    }
   ],
   "source": []
  },
  {
   "cell_type": "code",
   "execution_count": 323,
   "metadata": {},
   "outputs": [
    {
     "data": {
      "text/plain": [
       "0.9843347700013553"
      ]
     },
     "execution_count": 323,
     "metadata": {},
     "output_type": "execute_result"
    }
   ],
   "source": [
    "x = rv.rvs(size=1000)\n",
    "\n",
    "std = np.sqrt(np.sum((x-np.mean(x))**2)/len(x))\n",
    "np.sqrt(np.sum((x-np.mean(x))**2)/len(x))"
   ]
  },
  {
   "cell_type": "markdown",
   "metadata": {},
   "source": [
    "__A:__"
   ]
  },
  {
   "cell_type": "markdown",
   "metadata": {},
   "source": [
    "Here we have calculated the actual standard deviation of a small data set (of size 5). But in this case, this small data set is actually a sample from our larger (infinite) population. In this case, the population is infinite because we could keep drawing our normal random variates until our computers die! \n",
    "\n",
    "In general, the sample mean we calculate will not be equal to the population mean (as we saw above). A consequence of this is that the sum of squares of the deviations from the _population_ mean will be bigger than the sum of squares of the deviations from the _sample_ mean. In other words, the sum of squares of the deviations from the _sample_ mean is too small to give an unbiased estimate of the _population_ variance. An example of this effect is given [here](https://en.wikipedia.org/wiki/Bessel%27s_correction#Source_of_bias). Scaling our estimate of the variance by the factor $n/(n-1)$ gives an unbiased estimator of the population variance. This factor is known as [Bessel's correction](https://en.wikipedia.org/wiki/Bessel%27s_correction). The consequence of this is that the $n$ in the denominator is replaced by $n-1$.\n",
    "\n",
    "You can see Bessel's correction reflected in Professor Spiegelhalter's definition of **variance** on p. 405 of *AoS*.\n",
    "\n",
    "__Q5:__ If all we had to go on was our five samples, what would be our best estimate of the population standard deviation? Use Bessel's correction ($n-1$ in the denominator), thus $\\sqrt{\\frac{\\sum_i(x_i - \\bar{x})^2}{n-1}}$."
   ]
  },
  {
   "cell_type": "markdown",
   "metadata": {},
   "source": [
    "__A:__"
   ]
  },
  {
   "cell_type": "code",
   "execution_count": 325,
   "metadata": {},
   "outputs": [
    {
     "data": {
      "text/plain": [
       "0.9848273068197687"
      ]
     },
     "execution_count": 325,
     "metadata": {},
     "output_type": "execute_result"
    }
   ],
   "source": [
    "np.sqrt(np.sum((x-np.mean(x))**2)/(len(x)-1))"
   ]
  },
  {
   "cell_type": "markdown",
   "metadata": {},
   "source": [
    "__Q6:__ Now use numpy's std function to calculate the standard deviation of our random samples. Which of the above standard deviations did it return?"
   ]
  },
  {
   "cell_type": "code",
   "execution_count": 328,
   "metadata": {},
   "outputs": [
    {
     "data": {
      "text/plain": [
       "0.9843347700013553"
      ]
     },
     "execution_count": 328,
     "metadata": {},
     "output_type": "execute_result"
    }
   ],
   "source": [
    "np.std(x)"
   ]
  },
  {
   "cell_type": "markdown",
   "metadata": {},
   "source": [
    "__A:__"
   ]
  },
  {
   "cell_type": "markdown",
   "metadata": {},
   "source": [
    "__Q7:__ Consult the documentation for np.std() to see how to apply the correction for estimating the population parameter and verify this produces the expected result."
   ]
  },
  {
   "cell_type": "markdown",
   "metadata": {},
   "source": [
    "__A:__"
   ]
  },
  {
   "cell_type": "code",
   "execution_count": 330,
   "metadata": {},
   "outputs": [
    {
     "data": {
      "text/plain": [
       "0.9848273068197687"
      ]
     },
     "execution_count": 330,
     "metadata": {},
     "output_type": "execute_result"
    }
   ],
   "source": [
    "np.std(x, ddof =1)\n"
   ]
  },
  {
   "cell_type": "markdown",
   "metadata": {},
   "source": [
    "### Summary of section"
   ]
  },
  {
   "cell_type": "markdown",
   "metadata": {},
   "source": [
    "In this section, you've been introduced to the scipy.stats package and used it to draw a small sample from the standard normal distribution. You've calculated the average (the mean) of this sample and seen that this is not exactly equal to the expected population parameter (which we know because we're generating the random variates from a specific, known distribution). You've been introduced to two ways of calculating the standard deviation; one uses $n$ in the denominator and the other uses $n-1$ (Bessel's correction). You've also seen which of these calculations np.std() performs by default and how to get it to generate the other."
   ]
  },
  {
   "cell_type": "markdown",
   "metadata": {},
   "source": [
    "You use $n$ as the denominator if you want to calculate the standard deviation of a sequence of numbers. You use $n-1$ if you are using this sequence of numbers to estimate the population parameter. This brings us to some terminology that can be a little confusing.\n",
    "\n",
    "The population parameter is traditionally written as $\\sigma$ and the sample statistic as $s$. Rather unhelpfully, $s$ is also called the sample standard deviation (using $n-1$) whereas the standard deviation of the sample uses $n$. That's right, we have the sample standard deviation and the standard deviation of the sample and they're not the same thing!\n",
    "\n",
    "The sample standard deviation\n",
    "\\begin{equation}\n",
    "s = \\sqrt{\\frac{\\sum_i(x_i - \\bar{x})^2}{n-1}} \\approx \\sigma,\n",
    "\\end{equation}\n",
    "is our best (unbiased) estimate of the population parameter ($\\sigma$).\n",
    "\n",
    "If your dataset _is_ your entire population, you simply want to calculate the population parameter, $\\sigma$, via\n",
    "\\begin{equation}\n",
    "\\sigma = \\sqrt{\\frac{\\sum_i(x_i - \\bar{x})^2}{n}}\n",
    "\\end{equation}\n",
    "as you have complete, full knowledge of your population. In other words, your sample _is_ your population. It's worth noting that we're dealing with what Professor Spiegehalter describes on p. 92 of *AoS* as a **metaphorical population**: we have all the data, and we act as if the data-point is taken from a population at random. We can think of this population as an imaginary space of possibilities. \n",
    "\n",
    "If, however, you have sampled _from_ your population, you only have partial knowledge of the state of your population. In this case, the standard deviation of your sample is not an unbiased estimate of the standard deviation of the population, in which case you seek to estimate that population parameter via the sample standard deviation, which uses the $n-1$ denominator."
   ]
  },
  {
   "cell_type": "markdown",
   "metadata": {},
   "source": [
    "Great work so far! Now let's dive deeper."
   ]
  },
  {
   "cell_type": "markdown",
   "metadata": {},
   "source": [
    "## 3. Sampling distributions"
   ]
  },
  {
   "cell_type": "markdown",
   "metadata": {},
   "source": [
    "So far we've been dealing with the concept of taking a sample from a population to infer the population parameters. One statistic we calculated for a sample was the mean. As our samples will be expected to vary from one draw to another, so will our sample statistics. If we were to perform repeat draws of size $n$ and calculate the mean of each, we would expect to obtain a distribution of values. This is the sampling distribution of the mean. **The Central Limit Theorem (CLT)** tells us that such a distribution will approach a normal distribution as $n$ increases (the intuitions behind the CLT are covered in full on p. 236 of *AoS*). For the sampling distribution of the mean, the standard deviation of this distribution is given by\n",
    "\n",
    "\\begin{equation}\n",
    "\\sigma_{mean} = \\frac{\\sigma}{\\sqrt n}\n",
    "\\end{equation}\n",
    "\n",
    "where $\\sigma_{mean}$ is the standard deviation of the sampling distribution of the mean and $\\sigma$ is the standard deviation of the population (the population parameter)."
   ]
  },
  {
   "cell_type": "markdown",
   "metadata": {},
   "source": [
    "This is important because typically we are dealing with samples from populations and all we know about the population is what we see in the sample. From this sample, we want to make inferences about the population. We may do this, for example, by looking at the histogram of the values and by calculating the mean and standard deviation (as estimates of the population parameters), and so we are intrinsically interested in how these quantities vary across samples. \n",
    "\n",
    "In other words, now that we've taken one sample of size $n$ and made some claims about the general population, what if we were to take another sample of size $n$? Would we get the same result? Would we make the same claims about the general population? This brings us to a fundamental question: _when we make some inference about a population based on our sample, how confident can we be that we've got it 'right'?_\n",
    "\n",
    "We need to think about **estimates and confidence intervals**: those concepts covered in Chapter 7, p. 189, of *AoS*."
   ]
  },
  {
   "cell_type": "markdown",
   "metadata": {},
   "source": [
    "Now, the standard normal distribution (with its variance equal to its standard deviation of one) would not be a great illustration of a key point. Instead, let's imagine we live in a town of 50,000 people and we know the height of everyone in this town. We will have 50,000 numbers that tell us everything about our population. We'll simulate these numbers now and put ourselves in one particular town, called 'town 47', where the population mean height is 172 cm and population standard deviation is 5 cm."
   ]
  },
  {
   "cell_type": "code",
   "execution_count": 57,
   "metadata": {},
   "outputs": [],
   "source": [
    "seed(47)\n",
    "pop_heights = norm.rvs(172, 5, size=50000)"
   ]
  },
  {
   "cell_type": "code",
   "execution_count": 60,
   "metadata": {},
   "outputs": [
    {
     "data": {
      "image/png": "[encoded data removed]",
      "text/plain": [
       "<Figure size 432x288 with 1 Axes>"
      ]
     },
     "metadata": {
      "needs_background": "light"
     },
     "output_type": "display_data"
    }
   ],
   "source": [
    "_ = plt.hist(pop_heights, bins=30)\n",
    "_ = plt.xlabel('height (cm)')\n",
    "_ = plt.ylabel('number of people')\n",
    "_ = plt.title('Distribution of heights in entire town population')\n",
    "_ = plt.axvline(172, color='r')\n",
    "_ = plt.axvline(172+5, color='r', linestyle='--')\n",
    "_ = plt.axvline(172-5, color='r', linestyle='--')\n",
    "_ = plt.axvline(172+10, color='r', linestyle='-.')\n",
    "_ = plt.axvline(172-10, color='r', linestyle='-.')"
   ]
  },
  {
   "cell_type": "markdown",
   "metadata": {},
   "source": [
    "Now, 50,000 people is rather a lot to chase after with a tape measure. If all you want to know is the average height of the townsfolk, then can you just go out and measure a sample to get a pretty good estimate of the average height?"
   ]
  },
  {
   "cell_type": "code",
   "execution_count": 61,
   "metadata": {},
   "outputs": [],
   "source": [
    "def townsfolk_sampler(n):\n",
    "    return np.random.choice(pop_heights, n)"
   ]
  },
  {
   "cell_type": "code",
   "execution_count": 67,
   "metadata": {},
   "outputs": [
    {
     "data": {
      "text/plain": [
       "array([171.52874629, 173.48970606, 172.0752456 , 172.29707499,\n",
       "       171.58202648, 169.84480352, 178.67104246, 174.28346436,\n",
       "       174.29645483, 167.42082214])"
      ]
     },
     "execution_count": 67,
     "metadata": {},
     "output_type": "execute_result"
    }
   ],
   "source": [
    "townsfolk_sampler(10)"
   ]
  },
  {
   "cell_type": "markdown",
   "metadata": {},
   "source": [
    "Let's say you go out one day and randomly sample 10 people to measure."
   ]
  },
  {
   "cell_type": "code",
   "execution_count": 62,
   "metadata": {},
   "outputs": [],
   "source": [
    "seed(47)\n",
    "daily_sample1 = townsfolk_sampler(10)"
   ]
  },
  {
   "cell_type": "code",
   "execution_count": 63,
   "metadata": {},
   "outputs": [
    {
     "data": {
      "image/png": "[encoded data removed]",
      "text/plain": [
       "<Figure size 432x288 with 1 Axes>"
      ]
     },
     "metadata": {
      "needs_background": "light"
     },
     "output_type": "display_data"
    }
   ],
   "source": [
    "_ = plt.hist(daily_sample1, bins=10)\n",
    "_ = plt.xlabel('height (cm)')\n",
    "_ = plt.ylabel('number of people')\n",
    "_ = plt.title('Distribution of heights in sample size 10')"
   ]
  },
  {
   "cell_type": "markdown",
   "metadata": {},
   "source": [
    "The sample distribution doesn't resemble what we take the population distribution to be. What do we get for the mean?"
   ]
  },
  {
   "cell_type": "code",
   "execution_count": 64,
   "metadata": {},
   "outputs": [
    {
     "data": {
      "text/plain": [
       "173.47911444163503"
      ]
     },
     "execution_count": 64,
     "metadata": {},
     "output_type": "execute_result"
    }
   ],
   "source": [
    "np.mean(daily_sample1)"
   ]
  },
  {
   "cell_type": "markdown",
   "metadata": {},
   "source": [
    "And if we went out and repeated this experiment?"
   ]
  },
  {
   "cell_type": "code",
   "execution_count": 65,
   "metadata": {},
   "outputs": [],
   "source": [
    "daily_sample2 = townsfolk_sampler(10)"
   ]
  },
  {
   "cell_type": "code",
   "execution_count": 66,
   "metadata": {},
   "outputs": [
    {
     "data": {
      "text/plain": [
       "173.7317666636263"
      ]
     },
     "execution_count": 66,
     "metadata": {},
     "output_type": "execute_result"
    }
   ],
   "source": [
    "np.mean(daily_sample2)"
   ]
  },
  {
   "cell_type": "markdown",
   "metadata": {},
   "source": [
    "__Q8:__ Simulate performing this random trial every day for a year, calculating the mean of each daily sample of 10, and plot the resultant sampling distribution of the mean."
   ]
  },
  {
   "cell_type": "markdown",
   "metadata": {},
   "source": [
    "__A:__"
   ]
  },
  {
   "cell_type": "code",
   "execution_count": 296,
   "metadata": {},
   "outputs": [
    {
     "name": "stdout",
     "output_type": "stream",
     "text": [
      "172.13214496198918\n"
     ]
    },
    {
     "data": {
      "image/png": "[encoded data removed]",
      "text/plain": [
       "<Figure size 432x288 with 1 Axes>"
      ]
     },
     "metadata": {
      "needs_background": "light"
     },
     "output_type": "display_data"
    }
   ],
   "source": [
    "\n",
    "seed(47)\n",
    "\n",
    "pop_heights = norm.rvs(172, 5, size=(365, 10))\n",
    "mean_height = np.mean(pop_heights, axis =1)\n",
    "print(np.mean(pop_heights, axis =1))\n",
    "\n",
    "plt.hist(mean_height, bins=10)\n",
    "plt.xlabel('height (cm)')\n",
    "plt.ylabel('number of people')\n",
    "plt.title('Distribution of heights in sample size 10')\n",
    "mean_year = np.sum(year_mean)/len(year_mean/mean)\n",
    "\n",
    "print(mean_year)\n"
   ]
  },
  {
   "cell_type": "markdown",
   "metadata": {},
   "source": [
    "The above is the distribution of the means of samples of size 10 taken from our population. The Central Limit Theorem tells us the expected mean of this distribution will be equal to the population mean, and standard deviation will be $\\sigma / \\sqrt n$, which, in this case, should be approximately 1.58."
   ]
  },
  {
   "cell_type": "markdown",
   "metadata": {},
   "source": [
    "__Q9:__ Verify the above results from the CLT."
   ]
  },
  {
   "cell_type": "code",
   "execution_count": null,
   "metadata": {},
   "outputs": [],
   "source": [
    "1.96*((np.std(x, ddof =1)/np.sqrt(len(mean_heights))))"
   ]
  },
  {
   "cell_type": "code",
   "execution_count": 316,
   "metadata": {},
   "outputs": [
    {
     "name": "stdout",
     "output_type": "stream",
     "text": [
      "30.185857615777625\n"
     ]
    }
   ],
   "source": [
    "print(np.sqrt(len())*1.58)"
   ]
  },
  {
   "cell_type": "code",
   "execution_count": 318,
   "metadata": {},
   "outputs": [
    {
     "name": "stdout",
     "output_type": "stream",
     "text": [
      "365\n"
     ]
    }
   ],
   "source": [
    "print(/np.sqrt(len(mean_heights)))"
   ]
  },
  {
   "cell_type": "code",
   "execution_count": 319,
   "metadata": {},
   "outputs": [
    {
     "name": "stdout",
     "output_type": "stream",
     "text": [
      "365\n"
     ]
    }
   ],
   "source": [
    "print(len(mean_heights))"
   ]
  },
  {
   "cell_type": "code",
   "execution_count": 310,
   "metadata": {},
   "outputs": [
    {
     "name": "stdout",
     "output_type": "stream",
     "text": [
      "1.6529931322865503\n"
     ]
    }
   ],
   "source": [
    "std = np.std(mean_heights, ddof = 1)\n",
    "print(np.std(mean_heights, ddof = 1))"
   ]
  },
  {
   "cell_type": "code",
   "execution_count": 314,
   "metadata": {},
   "outputs": [
    {
     "name": "stdout",
     "output_type": "stream",
     "text": [
      "0.2617119612951069\n"
     ]
    }
   ],
   "source": [
    "\n",
    "CLT = 5/np.sqrt((len(mean_heights)))\n",
    "print(CLT)"
   ]
  },
  {
   "cell_type": "code",
   "execution_count": 312,
   "metadata": {},
   "outputs": [
    {
     "name": "stdout",
     "output_type": "stream",
     "text": [
      "1.5664715173549393\n"
     ]
    }
   ],
   "source": [
    "print(std - CLT)"
   ]
  },
  {
   "cell_type": "code",
   "execution_count": 138,
   "metadata": {},
   "outputs": [
    {
     "name": "stdout",
     "output_type": "stream",
     "text": [
      "0.05774017028013434\n"
     ]
    }
   ],
   "source": [
    "r = new/len(year_mean)\n",
    "w = np.sqrt(r)\n",
    "print(w/(np.sqrt(len(year_mean))))"
   ]
  },
  {
   "cell_type": "code",
   "execution_count": 144,
   "metadata": {},
   "outputs": [
    {
     "name": "stdout",
     "output_type": "stream",
     "text": [
      "1.5211767503776061\n"
     ]
    }
   ],
   "source": [
    "print(np.std(year_mean, ddof = 1))"
   ]
  },
  {
   "cell_type": "code",
   "execution_count": 321,
   "metadata": {},
   "outputs": [
    {
     "name": "stdout",
     "output_type": "stream",
     "text": [
      "1.6529931322865503\n"
     ]
    }
   ],
   "source": [
    "print(np.std(mean_heights, ddof = 1))"
   ]
  },
  {
   "cell_type": "markdown",
   "metadata": {},
   "source": [
    "__A:__"
   ]
  },
  {
   "cell_type": "markdown",
   "metadata": {},
   "source": [
    "Remember, in this instance, we knew our population parameters, that the average height really is 172 cm and the standard deviation is 5 cm, and we see some of our daily estimates of the population mean were as low as around 168 and some as high as 176."
   ]
  },
  {
   "cell_type": "markdown",
   "metadata": {},
   "source": [
    "__Q10:__ Repeat the above year's worth of samples but for a sample size of 50 (perhaps you had a bigger budget for conducting surveys that year)! Would you expect your distribution of sample means to be wider (more variable) or narrower (more consistent)? Compare your resultant summary statistics to those predicted by the CLT."
   ]
  },
  {
   "cell_type": "markdown",
   "metadata": {},
   "source": [
    "__A:__"
   ]
  },
  {
   "cell_type": "code",
   "execution_count": 111,
   "metadata": {},
   "outputs": [
    {
     "data": {
      "image/png": "[encoded data removed]",
      "text/plain": [
       "<Figure size 432x288 with 1 Axes>"
      ]
     },
     "metadata": {
      "needs_background": "light"
     },
     "output_type": "display_data"
    }
   ],
   "source": [
    "seed(47)\n",
    "# calculate daily means from the larger sample size here\n",
    "mean_count = 0 \n",
    "year_mean_50 = []\n",
    "\n",
    "for x in range(365):\n",
    "    daily_sample1 = townsfolk_sampler(50)\n",
    "#print(daily_sample1)\n",
    "    daily_mean = np.mean(daily_sample1)\n",
    "    mean_count += daily_mean\n",
    "    year_mean_50.append(daily_mean)\n",
    "\n",
    "plt.hist(year_mean_50, bins=10)\n",
    "plt.xlabel('height (cm)')\n",
    "plt.ylabel('number of people')\n",
    "plt.title('Distribution of heights in sample size 10')\n",
    "total_mean = mean_count/len(year_mean_50)"
   ]
  },
  {
   "cell_type": "code",
   "execution_count": 211,
   "metadata": {},
   "outputs": [
    {
     "data": {
      "text/plain": [
       "0.7213688669355903"
      ]
     },
     "execution_count": 211,
     "metadata": {},
     "output_type": "execute_result"
    }
   ],
   "source": [
    "year_50_std = np.std(year_mean_50, ddof = 1)\n",
    "np.std(year_mean_50, ddof = 1)"
   ]
  },
  {
   "cell_type": "code",
   "execution_count": 213,
   "metadata": {},
   "outputs": [
    {
     "data": {
      "text/plain": [
       "172.19928199129743"
      ]
     },
     "execution_count": 213,
     "metadata": {},
     "output_type": "execute_result"
    }
   ],
   "source": [
    "mean_50 = np.mean(year_mean_50)\n",
    "np.mean(year_mean_50)"
   ]
  },
  {
   "cell_type": "markdown",
   "metadata": {},
   "source": [
    "What we've seen so far, then, is that we can estimate population parameters from a sample from the population, and that samples have their own distributions. Furthermore, the larger the sample size, the narrower are those sampling distributions."
   ]
  },
  {
   "cell_type": "markdown",
   "metadata": {},
   "source": [
    "### Normally testing time!"
   ]
  },
  {
   "cell_type": "markdown",
   "metadata": {},
   "source": [
    "All of the above is well and good. We've been sampling from a population we know is normally distributed, we've come to understand when to use $n$ and when to use $n-1$ in the denominator to calculate the spread of a distribution, and we've  seen the Central Limit Theorem in action for a sampling distribution. All seems very well behaved in Frequentist land. But, well, why should we really care?"
   ]
  },
  {
   "cell_type": "markdown",
   "metadata": {},
   "source": [
    "Remember, we rarely (if ever) actually know our population parameters but we still have to estimate them somehow. If we want to make inferences to conclusions like \"this observation is unusual\" or \"my population mean has changed\" then we need to have some idea of what the underlying distribution is so we can calculate relevant probabilities. In frequentist inference, we use the formulae above to deduce these population parameters. Take a moment in the next part of this assignment to refresh your understanding of how these probabilities work."
   ]
  },
  {
   "cell_type": "markdown",
   "metadata": {},
   "source": [
    "Recall some basic properties of the standard normal distribution, such as that about 68% of observations are within plus or minus 1 standard deviation of the mean. Check out the precise definition of a normal distribution on p. 394 of *AoS*. \n",
    "\n",
    "__Q11:__ Using this fact, calculate the probability of observing the value 1 or less in a single observation from the standard normal distribution. Hint: you may find it helpful to sketch the standard normal distribution (the familiar bell shape) and mark the number of standard deviations from the mean on the x-axis and shade the regions of the curve that contain certain percentages of the population."
   ]
  },
  {
   "cell_type": "markdown",
   "metadata": {},
   "source": [
    "__A:__\n"
   ]
  },
  {
   "cell_type": "code",
   "execution_count": 164,
   "metadata": {},
   "outputs": [
    {
     "name": "stdout",
     "output_type": "stream",
     "text": [
      "0.1643835616438356\n"
     ]
    }
   ],
   "source": [
    "z_scores = stats.zscore(year_mean)\n",
    "\n",
    "filter_arr = z_scores > 1\n",
    "print(np.sum(filter_arr)/len(year_mean))"
   ]
  },
  {
   "cell_type": "markdown",
   "metadata": {},
   "source": [
    "Calculating this probability involved calculating the area under the curve from the value of 1 and below. To put it in mathematical terms, we need to *integrate* the probability density function. We could just add together the known areas of chunks (from -Inf to 0 and then 0 to $+\\sigma$ in the example above). One way to do this is to look up tables (literally). Fortunately, scipy has this functionality built in with the cdf() function."
   ]
  },
  {
   "cell_type": "markdown",
   "metadata": {},
   "source": [
    "__Q12:__ Use the cdf() function to answer the question above again and verify you get the same answer."
   ]
  },
  {
   "cell_type": "markdown",
   "metadata": {},
   "source": [
    "__A:__"
   ]
  },
  {
   "cell_type": "code",
   "execution_count": 155,
   "metadata": {},
   "outputs": [
    {
     "name": "stdout",
     "output_type": "stream",
     "text": [
      "[0.03287671 0.07671233 0.20273973 0.37534247 0.58356164 0.79726027\n",
      " 0.90958904 0.96438356 0.99178082 1.        ]\n"
     ]
    }
   ],
   "source": [
    "# getting data of the histogram\n",
    "count, bins_count = np.histogram(year_mean, bins=10)\n",
    "\n",
    "# finding the PDF of the histogram using count values\n",
    "pdf = count / sum(count)\n",
    "  \n",
    "# using numpy np.cumsum to calculate the CDF\n",
    "# We can also find using the PDF values by looping and adding\n",
    "cdf = np.cumsum(pdf)\n",
    "print(cdf)\n"
   ]
  },
  {
   "cell_type": "code",
   "execution_count": 171,
   "metadata": {},
   "outputs": [
    {
     "data": {
      "text/plain": [
       "array([-1.50744277,  1.45426988, -0.65835773, -0.51037603, -0.24119119,\n",
       "       -0.09190455, -2.36051508, -1.20006563,  0.30490922, -1.02098128,\n",
       "       -0.75526965,  0.71945948,  0.8569923 ,  1.03924806, -0.7326322 ,\n",
       "       -0.36789131, -0.37671442,  0.2781928 , -0.15634798, -1.23916372,\n",
       "        0.32585354,  0.65906784,  2.28893328, -0.92633771,  0.74121109,\n",
       "        1.17437015, -0.11166932, -0.52090828, -0.58973029, -0.44811414,\n",
       "       -0.65760908, -0.35246796,  0.89435866,  1.25143274, -1.41126196,\n",
       "       -0.79821847, -0.91582833,  1.07490351,  1.06991545, -1.3359689 ,\n",
       "       -0.55380138,  0.75655039, -1.15769181, -0.65524374,  1.14634293,\n",
       "       -1.51378862, -0.2016666 , -1.98038332,  0.171058  ,  1.70185601,\n",
       "        1.08554561,  0.82390339, -0.29845434, -0.15531541, -2.44155006,\n",
       "       -0.11645513,  0.22574032, -0.90400167,  1.64117395,  0.74557662,\n",
       "       -2.24228256, -1.44665496,  0.29735188, -1.23155943, -0.26796143,\n",
       "       -2.40690713,  1.20757767,  0.60781029, -0.1077842 ,  0.2527506 ,\n",
       "        0.25267971,  1.35154864, -0.39656608,  0.70286675, -1.27926518,\n",
       "        0.92642165,  1.97253095, -0.15972048, -0.22150079,  0.1998451 ,\n",
       "        0.53219821,  1.21990799,  2.15008507,  0.70621108, -0.06424754,\n",
       "        0.05846229, -0.46882221, -0.16833115,  1.6235928 ,  0.04401759,\n",
       "        0.26176885,  0.71069378, -0.32946829,  0.74167504,  0.66760662,\n",
       "        0.20391415,  0.20817868, -1.87466092, -0.6194669 ,  0.36169098,\n",
       "        1.83066097,  0.51351873,  0.07264358, -1.1464638 , -0.83504247,\n",
       "       -0.24183004,  1.77473619,  0.3062324 ,  1.71202337, -1.17657699,\n",
       "       -0.91118057,  0.4898636 ,  1.08111619, -1.16290061, -0.07450049,\n",
       "       -1.13583749,  0.55374746,  1.41397465, -1.09382752, -0.44237979,\n",
       "        0.46919897, -0.45572263,  1.03293253,  0.6947491 , -0.62316435,\n",
       "       -0.05713815,  1.46814905,  0.10477935, -2.01179476,  0.40952863,\n",
       "       -1.05733212, -1.21116934, -0.19267116,  1.23854823,  0.21678804,\n",
       "       -0.7616101 , -0.69977329, -0.18853063, -0.35495713,  0.55842132,\n",
       "       -1.67025399,  1.48367603, -0.12382224, -0.02566823,  0.52052525,\n",
       "        1.21057836, -0.63132374,  0.09899262,  0.29396583,  0.88685085,\n",
       "        0.37173167,  0.73020722,  0.59322213, -0.04128616, -0.63724312,\n",
       "        2.48376811,  1.49865452,  0.56918099, -0.39159295, -0.25477623,\n",
       "       -0.28128505,  0.3069726 ,  0.38137224,  1.02704012, -0.97993379,\n",
       "        0.25894955,  1.44165884,  0.61358565, -1.20456142, -1.66277239,\n",
       "       -0.48783912,  0.52298165, -0.52821337, -0.18730517, -1.28792488,\n",
       "       -0.91563018, -0.71853242, -0.58936822,  0.75917135,  0.80396161,\n",
       "        1.12385966,  0.05450544,  0.42080981,  0.15742802,  1.29895551,\n",
       "       -2.05701626, -1.21150668,  1.12270443,  0.34136651, -0.6056476 ,\n",
       "       -0.01904007,  0.99816009, -0.28440562, -1.83907034,  1.87345427,\n",
       "        0.7343025 , -0.96490107,  0.54372681,  2.90951361, -0.32960638,\n",
       "       -0.18369555,  0.40183516,  0.34907856,  2.00029504, -0.99647494,\n",
       "       -0.25243388, -2.13498082,  1.53040158,  0.70088952,  0.62552128,\n",
       "       -1.31693883,  0.01213021, -0.60863133,  0.78845565,  0.36094657,\n",
       "       -0.29614474,  0.02514335,  0.55015056, -0.18166014, -0.55110721,\n",
       "       -0.15056426,  0.12588884, -0.02597577,  0.07516174,  1.07220866,\n",
       "        1.22782843, -0.72313054, -0.76372386,  0.2522775 ,  0.48819968,\n",
       "       -1.36134998, -0.43843329,  0.50479807, -0.53539831,  0.10984381,\n",
       "       -0.68244175, -0.55474869,  1.18569215, -0.05208601, -0.89270597,\n",
       "        2.35398284, -0.2725329 , -0.26543341, -0.62975381, -1.22872318,\n",
       "       -1.59833278,  1.19975184,  0.47247136,  0.54836118,  0.87298123,\n",
       "        2.33164274, -0.8567199 , -1.12856221, -0.07787079,  0.91997202,\n",
       "       -0.9139776 ,  1.85320254, -1.88389364,  0.37001749, -0.13486872,\n",
       "       -0.91735847,  2.65951399,  0.32811805, -0.60606421, -0.15310528,\n",
       "       -0.83906061, -0.06127428,  0.32959091, -0.94114956, -0.3617241 ,\n",
       "        1.50641658, -2.02566399,  0.15400331, -0.88679516,  1.32168626,\n",
       "        0.1040147 , -1.47254797,  0.19942019,  0.52414534, -0.72487504,\n",
       "       -0.32212548, -0.58169181,  1.4424582 ,  0.61030658,  0.1980686 ,\n",
       "       -1.13614402, -1.00461945, -0.99402904, -0.06690668,  0.94427391,\n",
       "       -0.97708222,  0.75854411, -0.81435359,  0.27758491,  0.63949544,\n",
       "       -0.53719275, -1.40930691,  1.92378619,  2.34009026,  0.09923476,\n",
       "       -0.68443197, -1.10309053, -1.87765153,  1.29518285, -1.66718333,\n",
       "       -0.81957025,  1.48824748,  0.34209414,  0.60379582,  1.11863557,\n",
       "        0.7710722 , -0.63653226, -0.14344146,  0.34304425,  0.21793993,\n",
       "        1.06663395, -0.08221522, -0.33702402, -2.37082675, -0.83334747,\n",
       "       -0.56825314, -0.98114384,  0.63505331,  0.63541958,  0.885804  ,\n",
       "        0.13107842, -2.22674368,  0.00578041, -1.62589864,  0.71898678,\n",
       "        0.94867893,  0.59046716,  0.07659872,  1.24460386, -0.70004949,\n",
       "       -0.15178167, -0.41867766,  1.72069056, -0.53405849,  0.34709912,\n",
       "       -0.01068695, -0.657431  , -0.04155657, -0.40274618,  0.16999788,\n",
       "        0.421633  , -1.04970156,  0.38390667, -0.15633728, -1.36866088,\n",
       "       -0.13218445,  1.17468445, -1.01757147,  0.42327388, -0.77927036,\n",
       "        1.10903288, -1.063915  ,  1.47021675, -1.869435  ,  0.47216421,\n",
       "        0.61767167,  0.28560724, -2.08465741, -0.75515737,  0.53837237])"
      ]
     },
     "execution_count": 171,
     "metadata": {},
     "output_type": "execute_result"
    }
   ],
   "source": [
    "stats.zscore(year_mean, ddof =1)"
   ]
  },
  {
   "cell_type": "code",
   "execution_count": 196,
   "metadata": {},
   "outputs": [
    {
     "name": "stdout",
     "output_type": "stream",
     "text": [
      "[169.83905806466083, 174.34434648529037, 171.13066649697612, 171.35577280426233, 171.76525052916654, 171.99234190155764, 168.54138430549966, 170.30663302802537, 172.59596578270865, 170.57905198249333, 170.9832463246066, 173.2265699949806, 173.43578172099288, 173.71302494339383, 171.01768189299804, 171.57251725554426, 171.55909574072828, 172.555325374622, 171.89431204977367, 170.2471579242931, 172.62782578411486, 173.13470363659852, 175.6140170518265, 170.723021575977, 173.2596580396484, 173.91856952423228, 171.96227619590374, 171.33975139691273, 171.23506095145893, 171.45048415262858, 171.1318053165951, 171.59597889673057, 173.49262256021763, 174.03579535465687, 169.98536608380073, 170.91791358328453, 170.7390082038449, 173.76726319544048, 173.75967547487747, 170.09990013664066, 171.2897151740407, 173.28299183270084, 170.37109110355237, 171.1354034118975, 173.8759351750226, 169.82940490476543, 171.82537441697787, 169.1196318961479, 172.39235441956035, 174.72096876132824, 173.78345169928642, 173.38544763864488, 171.6781431568301, 171.8958827738367, 168.41811578129983, 171.95499612280065, 172.47553589288864, 170.7569986326052, 174.62866061359873, 173.26629878816334, 168.72123685660665, 169.9315270660857, 172.58446972997007, 170.25872539359392, 171.72452826048263, 168.4708137946022, 173.96908403811995, 173.05673183882112, 171.96818614128864, 172.5166232956695, 172.51651546433732, 174.18808932613211, 171.52889785724204, 173.20132951827958, 170.18615651476046, 173.5413960366407, 175.13271318741423, 171.8891818840169, 171.79520310905505, 172.43614467839882, 172.9417125127286, 173.9878406395747, 175.4028043812167, 173.2064168338946, 172.03441309553563, 172.2210764440507, 171.41898351685154, 171.8760835285701, 174.60191658763972, 172.19910349254684, 172.53034164555112, 173.21323581241188, 171.63096545450185, 173.2603637819561, 173.14769262324393, 172.44233442341022, 172.44882153541835, 169.2804543531895, 171.1898263091488, 172.6823408647876, 174.9169038630691, 172.9132977118523, 172.24264868673563, 170.38817087692203, 170.86189776789604, 171.76427872825462, 174.83183239502551, 172.59797856592425, 174.73643511225222, 170.3423633937563, 170.74607825627157, 172.877314078661, 173.7767137684767, 170.36316759780036, 172.01881655143677, 170.404335377514, 172.97449272521806, 174.28305033091516, 170.46823997060758, 171.45920711228496, 172.84587952261003, 171.43891028945714, 173.7034179172641, 173.18898113695218, 171.18420184409456, 172.0452277359093, 174.36545915977115, 172.2915328656717, 169.0718495516033, 172.75511039692714, 170.523755925454, 170.28974231821132, 171.83905807957132, 174.01619573016688, 172.46191789201237, 170.9736013776235, 171.0676660969288, 171.84535654483798, 171.5921924250977, 172.98160248413728, 169.59139343220346, 174.38907844649034, 171.9437894501313, 172.0930990471354, 172.92395586657943, 173.97364861916168, 171.1717899678691, 172.28273023637206, 172.57931895134647, 173.48120185929423, 172.6976145391207, 173.24291921060617, 173.03454066964588, 172.0693414120517, 171.16278553776183, 175.91039527113497, 174.41186336847073, 172.997969852934, 171.53646287194837, 171.7445852916, 171.70426067956092, 172.59910454312129, 172.71227954174995, 173.6944545084006, 170.641492465513, 172.52605300436343, 174.32516287461075, 173.06551718175993, 170.29979412985884, 169.6027742602213, 171.39005543838238, 172.92769249553936, 171.32863906215687, 171.84722069756876, 170.1729835829476, 170.73930962453082, 171.03913014540814, 171.2356117312193, 173.28697877365488, 173.35511266857708, 173.8417341410049, 172.2150573770925, 172.7722710591809, 172.3716208055306, 174.10808588298877, 169.00305964745039, 170.28922916175696, 173.83997683156554, 172.6514237629438, 171.21084790981763, 172.10318165733764, 173.650522888218, 171.69951375082263, 169.33459391760306, 174.9820000368332, 173.24914885668608, 170.6643598892983, 172.95924953923296, 176.55802942734405, 171.630755395105, 171.8527115695905, 172.74340726962572, 172.66315514703336, 175.17494727164268, 170.61633045100194, 171.7481484142129, 168.88446177914864, 174.4601562592232, 173.1983218041828, 173.08367339715429, 170.12884823942258, 172.15059715016258, 171.20630912821008, 173.33152535977132, 172.6812084964285, 171.68165647452705, 172.17039243946988, 172.96902121021364, 171.85580777795366, 171.2938134935796, 171.90311011085652, 172.323644144301, 172.09263122342406, 172.24647925231812, 173.76316384921603, 173.99988902536398, 171.03213560447446, 170.97038598919764, 172.5159036248335, 172.8747829605941, 170.06129101598194, 171.4652104368691, 172.9000320455562, 171.31770950375667, 172.29923681950646, 171.0940304312982, 171.28827415481888, 173.93579229440144, 172.05291294109642, 170.7741813994334, 175.712968921475, 171.7175742573827, 171.72837383105062, 171.17417811486376, 170.26303982345334, 169.70079830172526, 173.95717955971236, 172.85085740286559, 172.96629924140774, 173.460103717084, 175.67898569447115, 170.82892256963544, 170.41540236735972, 172.0136897303943, 173.5315850132871, 170.74182348891452, 174.95119358383195, 169.26640975399195, 172.6950069694547, 171.92698579538572, 170.7366805830895, 176.17773580849388, 172.63127051777968, 171.21021418123019, 171.8992447679158, 170.85578546904367, 172.03893594674304, 172.63351098964964, 170.70049013222706, 171.5818986781487, 174.42367083710275, 169.05075199790403, 172.36641121171365, 170.78317278159685, 174.14266337444388, 172.2903696999285, 169.8921392293364, 172.43549831397982, 172.92946267062098, 171.02948190774245, 171.64213516714483, 171.2472889062493, 174.3263788405869, 173.06052914797982, 172.43344230396264, 170.4038690981336, 170.6039412153033, 170.62005110323216, 172.0303680789805, 173.5685524761765, 170.64583020797562, 173.28602462951147, 170.8933692204951, 172.55440067933517, 173.1049305558601, 171.31497983877867, 169.98834005249648, 175.05856378593057, 175.6918358665709, 172.28309857056257, 171.09100296020094, 170.4541492907601, 169.27590511520123, 174.10234699845165, 169.5960644491722, 170.88543374615432, 174.39603242869458, 172.65253061716288, 173.05062512546922, 173.8337873781092, 173.30508207209152, 171.16386688789353, 171.91394515228382, 172.65397589375752, 172.46367012282104, 173.75468372128347, 172.00708108079482, 171.6194718557291, 168.52569843270098, 170.86447616344037, 171.2677315010845, 170.63965177140818, 173.0981732993268, 173.09873044872873, 173.47960940951074, 172.33153839979718, 168.7448742423183, 172.14093798660718, 169.6588657560442, 173.2258509286677, 173.57525329600995, 173.03034987180968, 172.24866515356607, 174.0254074229975, 171.06724594979585, 171.90125820771226, 171.49526223288734, 174.74961943232572, 171.31974761028212, 172.66014407818793, 172.11588821807862, 171.13207621198632, 172.0689300781157, 171.51949683547147, 172.39074178701455, 172.7735232765844, 170.53536334687936, 172.71613485735867, 171.8943283241121, 170.05016984965525, 171.9310690543285, 173.91904763390767, 170.58423890527752, 172.7760193542248, 170.94673701403627, 173.81917999542665, 170.51374220647762, 174.36860449277546, 169.28840390851812, 172.85039017474352, 173.07173274675955, 172.56660404850044, 168.96101258455434, 170.98341713262187, 172.95110450018586]\n"
     ]
    }
   ],
   "source": [
    "print(year_mean)"
   ]
  },
  {
   "cell_type": "code",
   "execution_count": 179,
   "metadata": {},
   "outputs": [
    {
     "ename": "SyntaxError",
     "evalue": "invalid character in identifier (<ipython-input-179-7ac08ebf0773>, line 3)",
     "output_type": "error",
     "traceback": [
      "\u001b[0;36m  File \u001b[0;32m\"<ipython-input-179-7ac08ebf0773>\"\u001b[0;36m, line \u001b[0;32m3\u001b[0m\n\u001b[0;31m    # Number of data points: n\u001b[0m\n\u001b[0m    ^\u001b[0m\n\u001b[0;31mSyntaxError\u001b[0m\u001b[0;31m:\u001b[0m invalid character in identifier\n"
     ]
    }
   ],
   "source": [
    "def ecdf(data):\n",
    "\n",
    "    # Number of data points: n\n",
    "    n = len(data)\n",
    "\n",
    "    # x-data for the ECDF: x\n",
    "    x = np.sort(data)\n",
    "\n",
    "    # y-data for the ECDF: y\n",
    "    y = np.arange(1, n+1) / n\n",
    "\n",
    "    return x, y"
   ]
  },
  {
   "cell_type": "code",
   "execution_count": 181,
   "metadata": {},
   "outputs": [],
   "source": [
    "def ecdf(data):\n",
    "    n = len(data)\n",
    "    x = np.sort(data)\n",
    "    \n",
    "    y = np.arange(1, n+1) / n\n",
    "    \n",
    "    return x, y"
   ]
  },
  {
   "cell_type": "code",
   "execution_count": 185,
   "metadata": {},
   "outputs": [
    {
     "data": {
      "image/png": "[encoded data removed]",
      "text/plain": [
       "<Figure size 432x288 with 1 Axes>"
      ]
     },
     "metadata": {
      "needs_background": "light"
     },
     "output_type": "display_data"
    }
   ],
   "source": [
    "x, y = ecdf(year_mean)\n",
    "\n",
    "plt.plot(x, y, marker  = '.', linestyle = 'none')\n",
    "plt.xlabel('Heights')\n",
    "plt.ylabel('ECDF')\n",
    "\n",
    "plt.show()"
   ]
  },
  {
   "cell_type": "markdown",
   "metadata": {},
   "source": [
    "__Q13:__ Using our knowledge of the population parameters for our townsfolks' heights, what is the probability of selecting one person at random and their height being 177 cm or less? Calculate this using both of the approaches given above."
   ]
  },
  {
   "cell_type": "markdown",
   "metadata": {},
   "source": [
    "__A:__"
   ]
  },
  {
   "cell_type": "code",
   "execution_count": 198,
   "metadata": {},
   "outputs": [
    {
     "name": "stdout",
     "output_type": "stream",
     "text": [
      "Percent less than 177 cm = 1.0\n"
     ]
    }
   ],
   "source": [
    "tall = np.sum(x <= 177)\n",
    "\n",
    "print('Percent less than 177 cm =', tall / len(year_mean))"
   ]
  },
  {
   "cell_type": "markdown",
   "metadata": {},
   "source": [
    "__Q14:__ Turning this question around — suppose we randomly pick one person and measure their height and find they are 2.00 m tall. How surprised should we be at this result, given what we know about the population distribution? In other words, how likely would it be to obtain a value at least as extreme as this? Express this as a probability. "
   ]
  },
  {
   "cell_type": "code",
   "execution_count": 209,
   "metadata": {},
   "outputs": [
    {
     "name": "stdout",
     "output_type": "stream",
     "text": [
      "Probabilty of losing money = 0.0\n"
     ]
    }
   ],
   "source": [
    "samples_std1 = np.random.normal(172, 5, size = 100000)\n",
    "x, y = ecdf(samples_std1)\n",
    "\n",
    "tallish = np.sum(samples_std1 >= 200)\n",
    "\n",
    "print('Probabilty of losing money =', tallish / len(samples_std1))"
   ]
  },
  {
   "cell_type": "code",
   "execution_count": 222,
   "metadata": {},
   "outputs": [
    {
     "name": "stdout",
     "output_type": "stream",
     "text": [
      "38.538838149200096\n"
     ]
    }
   ],
   "source": [
    "z = (200 - mean_50)/ year_50_std\n",
    "print(z)"
   ]
  },
  {
   "cell_type": "code",
   "execution_count": 227,
   "metadata": {},
   "outputs": [
    {
     "data": {
      "text/plain": [
       "nan"
      ]
     },
     "execution_count": 227,
     "metadata": {},
     "output_type": "execute_result"
    }
   ],
   "source": [
    "stats.norm.ppf(z)"
   ]
  },
  {
   "cell_type": "markdown",
   "metadata": {},
   "source": [
    "__A:__"
   ]
  },
  {
   "cell_type": "markdown",
   "metadata": {},
   "source": [
    "What we've just done is calculate the ***p-value*** of the observation of someone 2.00m tall (review *p*-values if you need to on p. 399 of *AoS*). We could calculate this probability by virtue of knowing the population parameters. We were then able to use the known properties of the relevant normal distribution to calculate the probability of observing a value at least as extreme as our test value."
   ]
  },
  {
   "cell_type": "markdown",
   "metadata": {},
   "source": [
    "We're about to come to a pinch, though. We've said a couple of times that we rarely, if ever, know the true population parameters; we have to estimate them from our sample and we cannot even begin to estimate the standard deviation from a single observation. \n",
    "\n",
    "This is very true and usually we have sample sizes larger than one. This means we can calculate the mean of the sample as our best estimate of the population mean and the standard deviation as our best estimate of the population standard deviation. \n",
    "\n",
    "In other words, we are now coming to deal with the sampling distributions we mentioned above as we are generally concerned with the properties of the sample means we obtain. \n",
    "\n",
    "Above, we highlighted one result from the CLT, whereby the sampling distribution (of the mean) becomes narrower and narrower with the square root of the sample size. We remind ourselves that another result from the CLT is that _even if the underlying population distribution is not normal, the sampling distribution will tend to become normal with sufficiently large sample size_. (**Check out p. 199 of AoS if you need to revise this**). This is the key driver for us 'requiring' a certain sample size, for example you may frequently see a minimum sample size of 30 stated in many places. In reality this is simply a rule of thumb; if the underlying distribution is approximately normal then your sampling distribution will already be pretty normal, but if the underlying distribution is heavily skewed then you'd want to increase your sample size."
   ]
  },
  {
   "cell_type": "markdown",
   "metadata": {},
   "source": [
    "__Q15:__ Let's now start from the position of knowing nothing about the heights of people in our town.\n",
    "* Use the random seed of 47, to randomly sample the heights of 50 townsfolk\n",
    "* Estimate the population mean using np.mean\n",
    "* Estimate the population standard deviation using np.std (remember which denominator to use!)\n",
    "* Calculate the (95%) [margin of error](https://www.statisticshowto.datasciencecentral.com/probability-and-statistics/hypothesis-testing/margin-of-error/#WhatMofE) (use the exact critial z value to 2 decimal places - [look this up](https://www.statisticshowto.datasciencecentral.com/probability-and-statistics/find-critical-values/) or use norm.ppf()) Recall that the ***margin of error*** is mentioned on p. 189 of the *AoS* and discussed in depth in that chapter). \n",
    "* Calculate the 95% Confidence Interval of the mean (***confidence intervals*** are defined on p. 385 of *AoS*) \n",
    "* Does this interval include the true population mean?"
   ]
  },
  {
   "cell_type": "markdown",
   "metadata": {},
   "source": [
    "__A:__"
   ]
  },
  {
   "cell_type": "code",
   "execution_count": 244,
   "metadata": {},
   "outputs": [],
   "source": [
    "new_list = [random.sample(year_mean, k=50)]"
   ]
  },
  {
   "cell_type": "code",
   "execution_count": 245,
   "metadata": {},
   "outputs": [
    {
     "data": {
      "text/plain": [
       "172.02015409351174"
      ]
     },
     "execution_count": 245,
     "metadata": {},
     "output_type": "execute_result"
    }
   ],
   "source": [
    "new_list_mean = np.mean(new_list)\n",
    "np.mean(new_list)"
   ]
  },
  {
   "cell_type": "code",
   "execution_count": 247,
   "metadata": {},
   "outputs": [
    {
     "data": {
      "text/plain": [
       "1.7728110705712052"
      ]
     },
     "execution_count": 247,
     "metadata": {},
     "output_type": "execute_result"
    }
   ],
   "source": [
    "new_list_std = np.std(new_list, ddof = 1)\n",
    "new_list_std"
   ]
  },
  {
   "cell_type": "code",
   "execution_count": 258,
   "metadata": {},
   "outputs": [
    {
     "name": "stdout",
     "output_type": "stream",
     "text": [
      "3.474709698319562\n"
     ]
    }
   ],
   "source": [
    "#Margin of Error is plus or minus this value from the mean.\n",
    "\n",
    "x = 1.96*(new_list_std)\n",
    "print(x)"
   ]
  },
  {
   "cell_type": "code",
   "execution_count": 259,
   "metadata": {},
   "outputs": [
    {
     "name": "stdout",
     "output_type": "stream",
     "text": [
      "168.54544439519216 175.4948637918313\n"
     ]
    }
   ],
   "source": [
    "print(new_list_mean - x, new_list_mean +x)"
   ]
  },
  {
   "cell_type": "markdown",
   "metadata": {},
   "source": [
    "__Q16:__ Above, we calculated the confidence interval using the critical z value. What is the problem with this? What requirement, or requirements, are we (strictly) failing?"
   ]
  },
  {
   "cell_type": "markdown",
   "metadata": {},
   "source": [
    "__A:__ For this confidence interval, I'm assuming the STD is a 2 tailed normal distribution. The CLT essentially tells us that the more samples, the more likely our data will form a normal distirbution. However, seeing our data with our sample size of 50, this is problematic."
   ]
  },
  {
   "cell_type": "markdown",
   "metadata": {},
   "source": [
    "__Q17:__ Calculate the 95% confidence interval for the mean using the _t_ distribution. Is this wider or narrower than that based on the normal distribution above? If you're unsure, you may find this [resource](https://www.statisticshowto.datasciencecentral.com/probability-and-statistics/confidence-interval/) useful. For calculating the critical value, remember how you could calculate this for the normal distribution using norm.ppf()."
   ]
  },
  {
   "cell_type": "markdown",
   "metadata": {},
   "source": [
    "__A:__"
   ]
  },
  {
   "cell_type": "code",
   "execution_count": 263,
   "metadata": {},
   "outputs": [
    {
     "name": "stdout",
     "output_type": "stream",
     "text": [
      "3.570441496130407\n"
     ]
    }
   ],
   "source": [
    "# Using one tail because we are calculating that our sampple falls within 95%\n",
    "\n",
    "t_value = 2.014\n",
    "\n",
    "#Step 4: Divide your sample standard deviation by the square root of your sample size.\n",
    "rush = (new_list_std/ np.sqrt(50))\n",
    "\n",
    "#Step 5: Multiply step 3 by step 4.\n",
    "CV = 2.014 * rush\n",
    "\n",
    "print(t_value*new_list_std)"
   ]
  },
  {
   "cell_type": "code",
   "execution_count": 266,
   "metadata": {},
   "outputs": [
    {
     "name": "stdout",
     "output_type": "stream",
     "text": [
      "168.44971259738134 175.59059558964213\n"
     ]
    }
   ],
   "source": [
    "t = t_value*new_list_std\n",
    "\n",
    "print(new_list_mean - t, new_list_mean +t)"
   ]
  },
  {
   "cell_type": "markdown",
   "metadata": {},
   "source": [
    "This is slightly wider than the previous confidence interval. This reflects the greater uncertainty given that we are estimating population parameters from a sample."
   ]
  },
  {
   "cell_type": "markdown",
   "metadata": {},
   "source": [
    "## 4. Learning outcomes"
   ]
  },
  {
   "cell_type": "markdown",
   "metadata": {},
   "source": [
    "Having completed this project notebook, you now have hands-on experience:\n",
    "* sampling and calculating probabilities from a normal distribution\n",
    "* identifying the correct way to estimate the standard deviation of a population (the population parameter) from a sample\n",
    "* with sampling distribution and now know how the Central Limit Theorem applies\n",
    "* with how to calculate critical values and confidence intervals"
   ]
  },
  {
   "cell_type": "code",
   "execution_count": null,
   "metadata": {},
   "outputs": [],
   "source": []
  }
 ],
 "metadata": {
  "kernelspec": {
   "display_name": "Python 3",
   "language": "python",
   "name": "python3"
  },
  "language_info": {
   "codemirror_mode": {
    "name": "ipython",
    "version": 3
   },
   "file_extension": ".py",
   "mimetype": "text/x-python",
   "name": "python",
   "nbconvert_exporter": "python",
   "pygments_lexer": "ipython3",
   "version": "3.8.5"
  }
 },
 "nbformat": 4,
 "nbformat_minor": 2
}
